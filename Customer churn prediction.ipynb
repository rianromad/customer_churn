{
  "nbformat": 4,
  "nbformat_minor": 0,
  "metadata": {
    "colab": {
      "provenance": []
    },
    "kernelspec": {
      "name": "python3",
      "display_name": "Python 3"
    },
    "language_info": {
      "name": "python"
    }
  },
  "cells": [
    {
      "cell_type": "markdown",
      "source": [
        "# **Customer Churn Prediction** 🧑\n",
        "*Created by: Subkhan Rian Romadhon*"
      ],
      "metadata": {
        "id": "meCraLe5gJ15"
      }
    },
    {
      "cell_type": "markdown",
      "source": [
        "## Introduction\n",
        "\n",
        "<img src=\"https://www.perceptive-analytics.com/wp-content/uploads/2020/05/churn-prediction-1920-614.png\">\n",
        "\n",
        "Sebuah perusahaan tidak terlepas dari masalah pelanggan yang berpotensi berpindah layanan. Berpindahnya pelanggan atau churn dapat diilustrasikan dengan gambar di atas, di mana seekor ikan yang berpindah dari akuarium kotak ke akuarium lainnya.  Masalah tersebut tentunya mengakibatkan berkurangnya pendapatan di perusahaan. Oleh karena itu, perusahaan sebisa mungkin dapat mendeteksi pelanggan mana yang berpotensi berpindah layanan sedini mungkin serta memberikan treatment khusus kepada mereka sehingga tidak jadi beralih menggunakan layanan lainnya.\n",
        "\n",
        "\n",
        "</br>\n",
        "\n",
        "*NB: Supaya lebih mudah berpindah dari bagian satu ke bagian lainnya bisa menggunakan fitur **Table of contents** dari google colab*"
      ],
      "metadata": {
        "id": "92qwWk1iiOfO"
      }
    },
    {
      "cell_type": "code",
      "execution_count": null,
      "metadata": {
        "id": "zzwaExMCe_M-"
      },
      "outputs": [],
      "source": [
        "#mengimpor library\n",
        "#semua library yang dibutuhkan akan saya taruh pada sel ini\n",
        "import pandas as pd\n",
        "import re\n",
        "import numpy as np\n",
        "import matplotlib.pyplot as plt\n",
        "from matplotlib import colors\n",
        "import seaborn as sns\n",
        "from scipy import stats\n",
        "from sklearn.tree import DecisionTreeClassifier, plot_tree\n",
        "from sklearn.linear_model import LogisticRegression\n",
        "from sklearn.neighbors import KNeighborsClassifier\n",
        "from sklearn.model_selection import train_test_split, StratifiedKFold, KFold\n",
        "from sklearn.preprocessing import RobustScaler\n",
        "from sklearn.metrics import recall_score, roc_auc_score, f1_score, accuracy_score, confusion_matrix\n",
        "from imblearn.over_sampling import SMOTENC\n",
        "from imblearn.under_sampling import TomekLinks"
      ]
    },
    {
      "cell_type": "markdown",
      "source": [
        "## Step 1: Mengimpor Dataset 💾\n",
        "\n",
        "Data yang digunakan terdiri dari data **train.csv** dan **test.csv**. Data train memiliki label yang menunjukkan apakah seseorang berpotensi pindah provider (churn) atau tidak. Data ini digunakan dalam pembuatan model machine learning. Sementara itu, data test merupakan data baru yang tidak memiliki label. Kita akan menggunakan model machine learning yang telah dibuat untuk memprediksi data test. Secara umum kedua data terdiri dari beberapa kolom dengan deskripsi sebagai berikut:\n",
        "\n",
        "| **No** | **Kolom**                     | **Definisi**                                              |\n",
        "|--------|-------------------------------|-----------------------------------------------------------|\n",
        "| 1.     | state                         | State di US                                               |\n",
        "| 2.     | account_length                | Total bulan customer menjadi telco provider               |\n",
        "| 3.     | area_code                     | Kode area                                                 |\n",
        "| 4.     | international_plan            | Customer memiliki plan internasional                      |\n",
        "| 5.     | voice_mail_plan               | Customer memiliki plan voice mail                         |\n",
        "| 6.     | number_vmail_messages         | Total pesan voice mail                                    |\n",
        "| 7.     | total_day_minutes             | Total menit pada day call                                 |\n",
        "| 8.     | total_day_calls               | Total day call                                            |\n",
        "| 9.     | total_day_charge              | Total biaya dari day call                                 |\n",
        "| 10.    | total_eve_minutes             | Total menit pada evening call                             |\n",
        "| 11.    | total_eve_calls               | Total evening call                                        |\n",
        "| 12.    | total_eve_charge              | Total biaya dari evening call                             |\n",
        "| 13.    | total_night_minutes           | Total menit pada night call                               |\n",
        "| 14.    | total_night_calls             | Total night call                                          |\n",
        "| 15.    | total_night_charge            | Total biaya dari night call                               |\n",
        "| 16.    | total_intl_minutes            | Total menit pada international call                       |\n",
        "| 17.    | total_intl_calls              | Total international call                                  |\n",
        "| 18.    | total_intl_charge             | Total biaya dari international call                       |\n",
        "| 19.    | number_customer_service_calls | Total call pada customer service                          |\n",
        "| 20.    | churn (data train)            | Menunjukkan apakah customer beralih (yes) atau tidak (no) |"
      ],
      "metadata": {
        "id": "wR4GK1XF4bic"
      }
    },
    {
      "cell_type": "code",
      "source": [
        "#load dataset\n",
        "df_train = pd.read_csv(\"https://github.com/rianromad/rianromad/files/10398985/train.csv\")\n",
        "df_test = pd.read_csv(\"https://github.com/rianromad/rianromad/files/10398990/test.csv\")"
      ],
      "metadata": {
        "id": "zUeX_jBQgJU3"
      },
      "execution_count": null,
      "outputs": []
    },
    {
      "cell_type": "code",
      "source": [
        "#mengecek data train\n",
        "df_train.head()"
      ],
      "metadata": {
        "id": "IhCHfSuif4xm",
        "colab": {
          "base_uri": "https://localhost:8080/",
          "height": 270
        },
        "outputId": "d03d6c0f-282b-4d12-970c-05fca99b1081"
      },
      "execution_count": null,
      "outputs": [
        {
          "output_type": "execute_result",
          "data": {
            "text/plain": [
              "  state  account_length      area_code international_plan voice_mail_plan  \\\n",
              "0    OH             107  area_code_415                 no             yes   \n",
              "1    NJ             137  area_code_415                 no              no   \n",
              "2    OH              84  area_code_408                yes              no   \n",
              "3    OK              75  area_code_415                yes              no   \n",
              "4    MA             121  area_code_510                 no             yes   \n",
              "\n",
              "   number_vmail_messages  total_day_minutes  total_day_calls  \\\n",
              "0                     26              161.6              123   \n",
              "1                      0              243.4              114   \n",
              "2                      0              299.4               71   \n",
              "3                      0              166.7              113   \n",
              "4                     24              218.2               88   \n",
              "\n",
              "   total_day_charge  total_eve_minutes  total_eve_calls  total_eve_charge  \\\n",
              "0             27.47              195.5              103             16.62   \n",
              "1             41.38              121.2              110             10.30   \n",
              "2             50.90               61.9               88              5.26   \n",
              "3             28.34              148.3              122             12.61   \n",
              "4             37.09              348.5              108             29.62   \n",
              "\n",
              "   total_night_minutes  total_night_calls  total_night_charge  \\\n",
              "0                254.4                103               11.45   \n",
              "1                162.6                104                7.32   \n",
              "2                196.9                 89                8.86   \n",
              "3                186.9                121                8.41   \n",
              "4                212.6                118                9.57   \n",
              "\n",
              "   total_intl_minutes  total_intl_calls  total_intl_charge  \\\n",
              "0                13.7                 3               3.70   \n",
              "1                12.2                 5               3.29   \n",
              "2                 6.6                 7               1.78   \n",
              "3                10.1                 3               2.73   \n",
              "4                 7.5                 7               2.03   \n",
              "\n",
              "   number_customer_service_calls churn  \n",
              "0                              1    no  \n",
              "1                              0    no  \n",
              "2                              2    no  \n",
              "3                              3    no  \n",
              "4                              3    no  "
            ],
            "text/html": [
              "\n",
              "  <div id=\"df-6b5a0167-3efc-4c86-b0a4-69874240a33c\">\n",
              "    <div class=\"colab-df-container\">\n",
              "      <div>\n",
              "<style scoped>\n",
              "    .dataframe tbody tr th:only-of-type {\n",
              "        vertical-align: middle;\n",
              "    }\n",
              "\n",
              "    .dataframe tbody tr th {\n",
              "        vertical-align: top;\n",
              "    }\n",
              "\n",
              "    .dataframe thead th {\n",
              "        text-align: right;\n",
              "    }\n",
              "</style>\n",
              "<table border=\"1\" class=\"dataframe\">\n",
              "  <thead>\n",
              "    <tr style=\"text-align: right;\">\n",
              "      <th></th>\n",
              "      <th>state</th>\n",
              "      <th>account_length</th>\n",
              "      <th>area_code</th>\n",
              "      <th>international_plan</th>\n",
              "      <th>voice_mail_plan</th>\n",
              "      <th>number_vmail_messages</th>\n",
              "      <th>total_day_minutes</th>\n",
              "      <th>total_day_calls</th>\n",
              "      <th>total_day_charge</th>\n",
              "      <th>total_eve_minutes</th>\n",
              "      <th>total_eve_calls</th>\n",
              "      <th>total_eve_charge</th>\n",
              "      <th>total_night_minutes</th>\n",
              "      <th>total_night_calls</th>\n",
              "      <th>total_night_charge</th>\n",
              "      <th>total_intl_minutes</th>\n",
              "      <th>total_intl_calls</th>\n",
              "      <th>total_intl_charge</th>\n",
              "      <th>number_customer_service_calls</th>\n",
              "      <th>churn</th>\n",
              "    </tr>\n",
              "  </thead>\n",
              "  <tbody>\n",
              "    <tr>\n",
              "      <th>0</th>\n",
              "      <td>OH</td>\n",
              "      <td>107</td>\n",
              "      <td>area_code_415</td>\n",
              "      <td>no</td>\n",
              "      <td>yes</td>\n",
              "      <td>26</td>\n",
              "      <td>161.6</td>\n",
              "      <td>123</td>\n",
              "      <td>27.47</td>\n",
              "      <td>195.5</td>\n",
              "      <td>103</td>\n",
              "      <td>16.62</td>\n",
              "      <td>254.4</td>\n",
              "      <td>103</td>\n",
              "      <td>11.45</td>\n",
              "      <td>13.7</td>\n",
              "      <td>3</td>\n",
              "      <td>3.70</td>\n",
              "      <td>1</td>\n",
              "      <td>no</td>\n",
              "    </tr>\n",
              "    <tr>\n",
              "      <th>1</th>\n",
              "      <td>NJ</td>\n",
              "      <td>137</td>\n",
              "      <td>area_code_415</td>\n",
              "      <td>no</td>\n",
              "      <td>no</td>\n",
              "      <td>0</td>\n",
              "      <td>243.4</td>\n",
              "      <td>114</td>\n",
              "      <td>41.38</td>\n",
              "      <td>121.2</td>\n",
              "      <td>110</td>\n",
              "      <td>10.30</td>\n",
              "      <td>162.6</td>\n",
              "      <td>104</td>\n",
              "      <td>7.32</td>\n",
              "      <td>12.2</td>\n",
              "      <td>5</td>\n",
              "      <td>3.29</td>\n",
              "      <td>0</td>\n",
              "      <td>no</td>\n",
              "    </tr>\n",
              "    <tr>\n",
              "      <th>2</th>\n",
              "      <td>OH</td>\n",
              "      <td>84</td>\n",
              "      <td>area_code_408</td>\n",
              "      <td>yes</td>\n",
              "      <td>no</td>\n",
              "      <td>0</td>\n",
              "      <td>299.4</td>\n",
              "      <td>71</td>\n",
              "      <td>50.90</td>\n",
              "      <td>61.9</td>\n",
              "      <td>88</td>\n",
              "      <td>5.26</td>\n",
              "      <td>196.9</td>\n",
              "      <td>89</td>\n",
              "      <td>8.86</td>\n",
              "      <td>6.6</td>\n",
              "      <td>7</td>\n",
              "      <td>1.78</td>\n",
              "      <td>2</td>\n",
              "      <td>no</td>\n",
              "    </tr>\n",
              "    <tr>\n",
              "      <th>3</th>\n",
              "      <td>OK</td>\n",
              "      <td>75</td>\n",
              "      <td>area_code_415</td>\n",
              "      <td>yes</td>\n",
              "      <td>no</td>\n",
              "      <td>0</td>\n",
              "      <td>166.7</td>\n",
              "      <td>113</td>\n",
              "      <td>28.34</td>\n",
              "      <td>148.3</td>\n",
              "      <td>122</td>\n",
              "      <td>12.61</td>\n",
              "      <td>186.9</td>\n",
              "      <td>121</td>\n",
              "      <td>8.41</td>\n",
              "      <td>10.1</td>\n",
              "      <td>3</td>\n",
              "      <td>2.73</td>\n",
              "      <td>3</td>\n",
              "      <td>no</td>\n",
              "    </tr>\n",
              "    <tr>\n",
              "      <th>4</th>\n",
              "      <td>MA</td>\n",
              "      <td>121</td>\n",
              "      <td>area_code_510</td>\n",
              "      <td>no</td>\n",
              "      <td>yes</td>\n",
              "      <td>24</td>\n",
              "      <td>218.2</td>\n",
              "      <td>88</td>\n",
              "      <td>37.09</td>\n",
              "      <td>348.5</td>\n",
              "      <td>108</td>\n",
              "      <td>29.62</td>\n",
              "      <td>212.6</td>\n",
              "      <td>118</td>\n",
              "      <td>9.57</td>\n",
              "      <td>7.5</td>\n",
              "      <td>7</td>\n",
              "      <td>2.03</td>\n",
              "      <td>3</td>\n",
              "      <td>no</td>\n",
              "    </tr>\n",
              "  </tbody>\n",
              "</table>\n",
              "</div>\n",
              "      <button class=\"colab-df-convert\" onclick=\"convertToInteractive('df-6b5a0167-3efc-4c86-b0a4-69874240a33c')\"\n",
              "              title=\"Convert this dataframe to an interactive table.\"\n",
              "              style=\"display:none;\">\n",
              "        \n",
              "  <svg xmlns=\"http://www.w3.org/2000/svg\" height=\"24px\"viewBox=\"0 0 24 24\"\n",
              "       width=\"24px\">\n",
              "    <path d=\"M0 0h24v24H0V0z\" fill=\"none\"/>\n",
              "    <path d=\"M18.56 5.44l.94 2.06.94-2.06 2.06-.94-2.06-.94-.94-2.06-.94 2.06-2.06.94zm-11 1L8.5 8.5l.94-2.06 2.06-.94-2.06-.94L8.5 2.5l-.94 2.06-2.06.94zm10 10l.94 2.06.94-2.06 2.06-.94-2.06-.94-.94-2.06-.94 2.06-2.06.94z\"/><path d=\"M17.41 7.96l-1.37-1.37c-.4-.4-.92-.59-1.43-.59-.52 0-1.04.2-1.43.59L10.3 9.45l-7.72 7.72c-.78.78-.78 2.05 0 2.83L4 21.41c.39.39.9.59 1.41.59.51 0 1.02-.2 1.41-.59l7.78-7.78 2.81-2.81c.8-.78.8-2.07 0-2.86zM5.41 20L4 18.59l7.72-7.72 1.47 1.35L5.41 20z\"/>\n",
              "  </svg>\n",
              "      </button>\n",
              "      \n",
              "  <style>\n",
              "    .colab-df-container {\n",
              "      display:flex;\n",
              "      flex-wrap:wrap;\n",
              "      gap: 12px;\n",
              "    }\n",
              "\n",
              "    .colab-df-convert {\n",
              "      background-color: #E8F0FE;\n",
              "      border: none;\n",
              "      border-radius: 50%;\n",
              "      cursor: pointer;\n",
              "      display: none;\n",
              "      fill: #1967D2;\n",
              "      height: 32px;\n",
              "      padding: 0 0 0 0;\n",
              "      width: 32px;\n",
              "    }\n",
              "\n",
              "    .colab-df-convert:hover {\n",
              "      background-color: #E2EBFA;\n",
              "      box-shadow: 0px 1px 2px rgba(60, 64, 67, 0.3), 0px 1px 3px 1px rgba(60, 64, 67, 0.15);\n",
              "      fill: #174EA6;\n",
              "    }\n",
              "\n",
              "    [theme=dark] .colab-df-convert {\n",
              "      background-color: #3B4455;\n",
              "      fill: #D2E3FC;\n",
              "    }\n",
              "\n",
              "    [theme=dark] .colab-df-convert:hover {\n",
              "      background-color: #434B5C;\n",
              "      box-shadow: 0px 1px 3px 1px rgba(0, 0, 0, 0.15);\n",
              "      filter: drop-shadow(0px 1px 2px rgba(0, 0, 0, 0.3));\n",
              "      fill: #FFFFFF;\n",
              "    }\n",
              "  </style>\n",
              "\n",
              "      <script>\n",
              "        const buttonEl =\n",
              "          document.querySelector('#df-6b5a0167-3efc-4c86-b0a4-69874240a33c button.colab-df-convert');\n",
              "        buttonEl.style.display =\n",
              "          google.colab.kernel.accessAllowed ? 'block' : 'none';\n",
              "\n",
              "        async function convertToInteractive(key) {\n",
              "          const element = document.querySelector('#df-6b5a0167-3efc-4c86-b0a4-69874240a33c');\n",
              "          const dataTable =\n",
              "            await google.colab.kernel.invokeFunction('convertToInteractive',\n",
              "                                                     [key], {});\n",
              "          if (!dataTable) return;\n",
              "\n",
              "          const docLinkHtml = 'Like what you see? Visit the ' +\n",
              "            '<a target=\"_blank\" href=https://colab.research.google.com/notebooks/data_table.ipynb>data table notebook</a>'\n",
              "            + ' to learn more about interactive tables.';\n",
              "          element.innerHTML = '';\n",
              "          dataTable['output_type'] = 'display_data';\n",
              "          await google.colab.output.renderOutput(dataTable, element);\n",
              "          const docLink = document.createElement('div');\n",
              "          docLink.innerHTML = docLinkHtml;\n",
              "          element.appendChild(docLink);\n",
              "        }\n",
              "      </script>\n",
              "    </div>\n",
              "  </div>\n",
              "  "
            ]
          },
          "metadata": {},
          "execution_count": 4
        }
      ]
    },
    {
      "cell_type": "code",
      "source": [
        "#mengecek data test\n",
        "df_test.head()"
      ],
      "metadata": {
        "colab": {
          "base_uri": "https://localhost:8080/",
          "height": 270
        },
        "id": "SmE_sjL6m01_",
        "outputId": "09d6cfd8-a716-4822-c3b1-abce56449f0c"
      },
      "execution_count": null,
      "outputs": [
        {
          "output_type": "execute_result",
          "data": {
            "text/plain": [
              "   id state  account_length      area_code international_plan voice_mail_plan  \\\n",
              "0   1    KS             128  area_code_415                 no             yes   \n",
              "1   2    AL             118  area_code_510                yes              no   \n",
              "2   3    IA              62  area_code_415                 no              no   \n",
              "3   4    VT              93  area_code_510                 no              no   \n",
              "4   5    NE             174  area_code_415                 no              no   \n",
              "\n",
              "   number_vmail_messages  total_day_minutes  total_day_calls  \\\n",
              "0                     25              265.1              110   \n",
              "1                      0              223.4               98   \n",
              "2                      0              120.7               70   \n",
              "3                      0              190.7              114   \n",
              "4                      0              124.3               76   \n",
              "\n",
              "   total_day_charge  total_eve_minutes  total_eve_calls  total_eve_charge  \\\n",
              "0             45.07              197.4               99             16.78   \n",
              "1             37.98              220.6              101             18.75   \n",
              "2             20.52              307.2               76             26.11   \n",
              "3             32.42              218.2              111             18.55   \n",
              "4             21.13              277.1              112             23.55   \n",
              "\n",
              "   total_night_minutes  total_night_calls  total_night_charge  \\\n",
              "0                244.7                 91               11.01   \n",
              "1                203.9                118                9.18   \n",
              "2                203.0                 99                9.14   \n",
              "3                129.6                121                5.83   \n",
              "4                250.7                115               11.28   \n",
              "\n",
              "   total_intl_minutes  total_intl_calls  total_intl_charge  \\\n",
              "0                10.0                 3               2.70   \n",
              "1                 6.3                 6               1.70   \n",
              "2                13.1                 6               3.54   \n",
              "3                 8.1                 3               2.19   \n",
              "4                15.5                 5               4.19   \n",
              "\n",
              "   number_customer_service_calls  \n",
              "0                              1  \n",
              "1                              0  \n",
              "2                              4  \n",
              "3                              3  \n",
              "4                              3  "
            ],
            "text/html": [
              "\n",
              "  <div id=\"df-1d68bfc1-cd46-4f43-805c-6ef445dabac8\">\n",
              "    <div class=\"colab-df-container\">\n",
              "      <div>\n",
              "<style scoped>\n",
              "    .dataframe tbody tr th:only-of-type {\n",
              "        vertical-align: middle;\n",
              "    }\n",
              "\n",
              "    .dataframe tbody tr th {\n",
              "        vertical-align: top;\n",
              "    }\n",
              "\n",
              "    .dataframe thead th {\n",
              "        text-align: right;\n",
              "    }\n",
              "</style>\n",
              "<table border=\"1\" class=\"dataframe\">\n",
              "  <thead>\n",
              "    <tr style=\"text-align: right;\">\n",
              "      <th></th>\n",
              "      <th>id</th>\n",
              "      <th>state</th>\n",
              "      <th>account_length</th>\n",
              "      <th>area_code</th>\n",
              "      <th>international_plan</th>\n",
              "      <th>voice_mail_plan</th>\n",
              "      <th>number_vmail_messages</th>\n",
              "      <th>total_day_minutes</th>\n",
              "      <th>total_day_calls</th>\n",
              "      <th>total_day_charge</th>\n",
              "      <th>total_eve_minutes</th>\n",
              "      <th>total_eve_calls</th>\n",
              "      <th>total_eve_charge</th>\n",
              "      <th>total_night_minutes</th>\n",
              "      <th>total_night_calls</th>\n",
              "      <th>total_night_charge</th>\n",
              "      <th>total_intl_minutes</th>\n",
              "      <th>total_intl_calls</th>\n",
              "      <th>total_intl_charge</th>\n",
              "      <th>number_customer_service_calls</th>\n",
              "    </tr>\n",
              "  </thead>\n",
              "  <tbody>\n",
              "    <tr>\n",
              "      <th>0</th>\n",
              "      <td>1</td>\n",
              "      <td>KS</td>\n",
              "      <td>128</td>\n",
              "      <td>area_code_415</td>\n",
              "      <td>no</td>\n",
              "      <td>yes</td>\n",
              "      <td>25</td>\n",
              "      <td>265.1</td>\n",
              "      <td>110</td>\n",
              "      <td>45.07</td>\n",
              "      <td>197.4</td>\n",
              "      <td>99</td>\n",
              "      <td>16.78</td>\n",
              "      <td>244.7</td>\n",
              "      <td>91</td>\n",
              "      <td>11.01</td>\n",
              "      <td>10.0</td>\n",
              "      <td>3</td>\n",
              "      <td>2.70</td>\n",
              "      <td>1</td>\n",
              "    </tr>\n",
              "    <tr>\n",
              "      <th>1</th>\n",
              "      <td>2</td>\n",
              "      <td>AL</td>\n",
              "      <td>118</td>\n",
              "      <td>area_code_510</td>\n",
              "      <td>yes</td>\n",
              "      <td>no</td>\n",
              "      <td>0</td>\n",
              "      <td>223.4</td>\n",
              "      <td>98</td>\n",
              "      <td>37.98</td>\n",
              "      <td>220.6</td>\n",
              "      <td>101</td>\n",
              "      <td>18.75</td>\n",
              "      <td>203.9</td>\n",
              "      <td>118</td>\n",
              "      <td>9.18</td>\n",
              "      <td>6.3</td>\n",
              "      <td>6</td>\n",
              "      <td>1.70</td>\n",
              "      <td>0</td>\n",
              "    </tr>\n",
              "    <tr>\n",
              "      <th>2</th>\n",
              "      <td>3</td>\n",
              "      <td>IA</td>\n",
              "      <td>62</td>\n",
              "      <td>area_code_415</td>\n",
              "      <td>no</td>\n",
              "      <td>no</td>\n",
              "      <td>0</td>\n",
              "      <td>120.7</td>\n",
              "      <td>70</td>\n",
              "      <td>20.52</td>\n",
              "      <td>307.2</td>\n",
              "      <td>76</td>\n",
              "      <td>26.11</td>\n",
              "      <td>203.0</td>\n",
              "      <td>99</td>\n",
              "      <td>9.14</td>\n",
              "      <td>13.1</td>\n",
              "      <td>6</td>\n",
              "      <td>3.54</td>\n",
              "      <td>4</td>\n",
              "    </tr>\n",
              "    <tr>\n",
              "      <th>3</th>\n",
              "      <td>4</td>\n",
              "      <td>VT</td>\n",
              "      <td>93</td>\n",
              "      <td>area_code_510</td>\n",
              "      <td>no</td>\n",
              "      <td>no</td>\n",
              "      <td>0</td>\n",
              "      <td>190.7</td>\n",
              "      <td>114</td>\n",
              "      <td>32.42</td>\n",
              "      <td>218.2</td>\n",
              "      <td>111</td>\n",
              "      <td>18.55</td>\n",
              "      <td>129.6</td>\n",
              "      <td>121</td>\n",
              "      <td>5.83</td>\n",
              "      <td>8.1</td>\n",
              "      <td>3</td>\n",
              "      <td>2.19</td>\n",
              "      <td>3</td>\n",
              "    </tr>\n",
              "    <tr>\n",
              "      <th>4</th>\n",
              "      <td>5</td>\n",
              "      <td>NE</td>\n",
              "      <td>174</td>\n",
              "      <td>area_code_415</td>\n",
              "      <td>no</td>\n",
              "      <td>no</td>\n",
              "      <td>0</td>\n",
              "      <td>124.3</td>\n",
              "      <td>76</td>\n",
              "      <td>21.13</td>\n",
              "      <td>277.1</td>\n",
              "      <td>112</td>\n",
              "      <td>23.55</td>\n",
              "      <td>250.7</td>\n",
              "      <td>115</td>\n",
              "      <td>11.28</td>\n",
              "      <td>15.5</td>\n",
              "      <td>5</td>\n",
              "      <td>4.19</td>\n",
              "      <td>3</td>\n",
              "    </tr>\n",
              "  </tbody>\n",
              "</table>\n",
              "</div>\n",
              "      <button class=\"colab-df-convert\" onclick=\"convertToInteractive('df-1d68bfc1-cd46-4f43-805c-6ef445dabac8')\"\n",
              "              title=\"Convert this dataframe to an interactive table.\"\n",
              "              style=\"display:none;\">\n",
              "        \n",
              "  <svg xmlns=\"http://www.w3.org/2000/svg\" height=\"24px\"viewBox=\"0 0 24 24\"\n",
              "       width=\"24px\">\n",
              "    <path d=\"M0 0h24v24H0V0z\" fill=\"none\"/>\n",
              "    <path d=\"M18.56 5.44l.94 2.06.94-2.06 2.06-.94-2.06-.94-.94-2.06-.94 2.06-2.06.94zm-11 1L8.5 8.5l.94-2.06 2.06-.94-2.06-.94L8.5 2.5l-.94 2.06-2.06.94zm10 10l.94 2.06.94-2.06 2.06-.94-2.06-.94-.94-2.06-.94 2.06-2.06.94z\"/><path d=\"M17.41 7.96l-1.37-1.37c-.4-.4-.92-.59-1.43-.59-.52 0-1.04.2-1.43.59L10.3 9.45l-7.72 7.72c-.78.78-.78 2.05 0 2.83L4 21.41c.39.39.9.59 1.41.59.51 0 1.02-.2 1.41-.59l7.78-7.78 2.81-2.81c.8-.78.8-2.07 0-2.86zM5.41 20L4 18.59l7.72-7.72 1.47 1.35L5.41 20z\"/>\n",
              "  </svg>\n",
              "      </button>\n",
              "      \n",
              "  <style>\n",
              "    .colab-df-container {\n",
              "      display:flex;\n",
              "      flex-wrap:wrap;\n",
              "      gap: 12px;\n",
              "    }\n",
              "\n",
              "    .colab-df-convert {\n",
              "      background-color: #E8F0FE;\n",
              "      border: none;\n",
              "      border-radius: 50%;\n",
              "      cursor: pointer;\n",
              "      display: none;\n",
              "      fill: #1967D2;\n",
              "      height: 32px;\n",
              "      padding: 0 0 0 0;\n",
              "      width: 32px;\n",
              "    }\n",
              "\n",
              "    .colab-df-convert:hover {\n",
              "      background-color: #E2EBFA;\n",
              "      box-shadow: 0px 1px 2px rgba(60, 64, 67, 0.3), 0px 1px 3px 1px rgba(60, 64, 67, 0.15);\n",
              "      fill: #174EA6;\n",
              "    }\n",
              "\n",
              "    [theme=dark] .colab-df-convert {\n",
              "      background-color: #3B4455;\n",
              "      fill: #D2E3FC;\n",
              "    }\n",
              "\n",
              "    [theme=dark] .colab-df-convert:hover {\n",
              "      background-color: #434B5C;\n",
              "      box-shadow: 0px 1px 3px 1px rgba(0, 0, 0, 0.15);\n",
              "      filter: drop-shadow(0px 1px 2px rgba(0, 0, 0, 0.3));\n",
              "      fill: #FFFFFF;\n",
              "    }\n",
              "  </style>\n",
              "\n",
              "      <script>\n",
              "        const buttonEl =\n",
              "          document.querySelector('#df-1d68bfc1-cd46-4f43-805c-6ef445dabac8 button.colab-df-convert');\n",
              "        buttonEl.style.display =\n",
              "          google.colab.kernel.accessAllowed ? 'block' : 'none';\n",
              "\n",
              "        async function convertToInteractive(key) {\n",
              "          const element = document.querySelector('#df-1d68bfc1-cd46-4f43-805c-6ef445dabac8');\n",
              "          const dataTable =\n",
              "            await google.colab.kernel.invokeFunction('convertToInteractive',\n",
              "                                                     [key], {});\n",
              "          if (!dataTable) return;\n",
              "\n",
              "          const docLinkHtml = 'Like what you see? Visit the ' +\n",
              "            '<a target=\"_blank\" href=https://colab.research.google.com/notebooks/data_table.ipynb>data table notebook</a>'\n",
              "            + ' to learn more about interactive tables.';\n",
              "          element.innerHTML = '';\n",
              "          dataTable['output_type'] = 'display_data';\n",
              "          await google.colab.output.renderOutput(dataTable, element);\n",
              "          const docLink = document.createElement('div');\n",
              "          docLink.innerHTML = docLinkHtml;\n",
              "          element.appendChild(docLink);\n",
              "        }\n",
              "      </script>\n",
              "    </div>\n",
              "  </div>\n",
              "  "
            ]
          },
          "metadata": {},
          "execution_count": 5
        }
      ]
    },
    {
      "cell_type": "markdown",
      "source": [
        "Pada data test terdapat kolom id pelanggan yang digunakan sebagai penanda untuk memprediksi apakah mereka masuk ke dalam kategori churn atau tidak. Data test tidak memiliki kolom label yang menunjukkan apakah pelanggan tersebut churn atau tidak."
      ],
      "metadata": {
        "id": "CTtDM1AGnbOn"
      }
    },
    {
      "cell_type": "code",
      "source": [
        "#cek informasi data train\n",
        "df_train.info()"
      ],
      "metadata": {
        "colab": {
          "base_uri": "https://localhost:8080/"
        },
        "id": "BtUWrngQEaai",
        "outputId": "7e534ecf-b20d-4361-9b2d-2673a1b5768c"
      },
      "execution_count": null,
      "outputs": [
        {
          "output_type": "stream",
          "name": "stdout",
          "text": [
            "<class 'pandas.core.frame.DataFrame'>\n",
            "RangeIndex: 4250 entries, 0 to 4249\n",
            "Data columns (total 20 columns):\n",
            " #   Column                         Non-Null Count  Dtype  \n",
            "---  ------                         --------------  -----  \n",
            " 0   state                          4250 non-null   object \n",
            " 1   account_length                 4250 non-null   int64  \n",
            " 2   area_code                      4250 non-null   object \n",
            " 3   international_plan             4250 non-null   object \n",
            " 4   voice_mail_plan                4250 non-null   object \n",
            " 5   number_vmail_messages          4250 non-null   int64  \n",
            " 6   total_day_minutes              4250 non-null   float64\n",
            " 7   total_day_calls                4250 non-null   int64  \n",
            " 8   total_day_charge               4250 non-null   float64\n",
            " 9   total_eve_minutes              4250 non-null   float64\n",
            " 10  total_eve_calls                4250 non-null   int64  \n",
            " 11  total_eve_charge               4250 non-null   float64\n",
            " 12  total_night_minutes            4250 non-null   float64\n",
            " 13  total_night_calls              4250 non-null   int64  \n",
            " 14  total_night_charge             4250 non-null   float64\n",
            " 15  total_intl_minutes             4250 non-null   float64\n",
            " 16  total_intl_calls               4250 non-null   int64  \n",
            " 17  total_intl_charge              4250 non-null   float64\n",
            " 18  number_customer_service_calls  4250 non-null   int64  \n",
            " 19  churn                          4250 non-null   object \n",
            "dtypes: float64(8), int64(7), object(5)\n",
            "memory usage: 664.2+ KB\n"
          ]
        }
      ]
    },
    {
      "cell_type": "code",
      "source": [
        "#cek informasi data test\n",
        "df_test.info()"
      ],
      "metadata": {
        "colab": {
          "base_uri": "https://localhost:8080/"
        },
        "id": "0ANBZz8bnNvt",
        "outputId": "22160308-300a-4246-80e9-73995e07ce49"
      },
      "execution_count": null,
      "outputs": [
        {
          "output_type": "stream",
          "name": "stdout",
          "text": [
            "<class 'pandas.core.frame.DataFrame'>\n",
            "RangeIndex: 750 entries, 0 to 749\n",
            "Data columns (total 20 columns):\n",
            " #   Column                         Non-Null Count  Dtype  \n",
            "---  ------                         --------------  -----  \n",
            " 0   id                             750 non-null    int64  \n",
            " 1   state                          750 non-null    object \n",
            " 2   account_length                 750 non-null    int64  \n",
            " 3   area_code                      750 non-null    object \n",
            " 4   international_plan             750 non-null    object \n",
            " 5   voice_mail_plan                750 non-null    object \n",
            " 6   number_vmail_messages          750 non-null    int64  \n",
            " 7   total_day_minutes              750 non-null    float64\n",
            " 8   total_day_calls                750 non-null    int64  \n",
            " 9   total_day_charge               750 non-null    float64\n",
            " 10  total_eve_minutes              750 non-null    float64\n",
            " 11  total_eve_calls                750 non-null    int64  \n",
            " 12  total_eve_charge               750 non-null    float64\n",
            " 13  total_night_minutes            750 non-null    float64\n",
            " 14  total_night_calls              750 non-null    int64  \n",
            " 15  total_night_charge             750 non-null    float64\n",
            " 16  total_intl_minutes             750 non-null    float64\n",
            " 17  total_intl_calls               750 non-null    int64  \n",
            " 18  total_intl_charge              750 non-null    float64\n",
            " 19  number_customer_service_calls  750 non-null    int64  \n",
            "dtypes: float64(8), int64(8), object(4)\n",
            "memory usage: 117.3+ KB\n"
          ]
        }
      ]
    },
    {
      "cell_type": "markdown",
      "source": [
        "Dengan method info(), kita dapat mengetahui bahwa semua kolom dari kedua dataset tidak memiliki nilai kosong atau null value. Data train memiliki 4250 baris sedangkan data test memiliki 750 baris data."
      ],
      "metadata": {
        "id": "QKqjlL7OFF9R"
      }
    },
    {
      "cell_type": "code",
      "source": [
        "#statistika deskriptif untuk data train\n",
        "df_train.describe().loc[['mean','50%'],:].T"
      ],
      "metadata": {
        "colab": {
          "base_uri": "https://localhost:8080/",
          "height": 520
        },
        "id": "Q-ZQoyMbn0vx",
        "outputId": "7e41d0c7-239f-4f10-bfc0-6affab84e655"
      },
      "execution_count": null,
      "outputs": [
        {
          "output_type": "execute_result",
          "data": {
            "text/plain": [
              "                                     mean     50%\n",
              "account_length                 100.236235  100.00\n",
              "number_vmail_messages            7.631765    0.00\n",
              "total_day_minutes              180.259600  180.45\n",
              "total_day_calls                 99.907294  100.00\n",
              "total_day_charge                30.644682   30.68\n",
              "total_eve_minutes              200.173906  200.70\n",
              "total_eve_calls                100.176471  100.00\n",
              "total_eve_charge                17.015012   17.06\n",
              "total_night_minutes            200.527882  200.45\n",
              "total_night_calls               99.839529  100.00\n",
              "total_night_charge               9.023892    9.02\n",
              "total_intl_minutes              10.256071   10.30\n",
              "total_intl_calls                 4.426353    4.00\n",
              "total_intl_charge                2.769654    2.78\n",
              "number_customer_service_calls    1.559059    1.00"
            ],
            "text/html": [
              "\n",
              "  <div id=\"df-1bbacfe0-0957-406b-9b43-04862c04e76d\">\n",
              "    <div class=\"colab-df-container\">\n",
              "      <div>\n",
              "<style scoped>\n",
              "    .dataframe tbody tr th:only-of-type {\n",
              "        vertical-align: middle;\n",
              "    }\n",
              "\n",
              "    .dataframe tbody tr th {\n",
              "        vertical-align: top;\n",
              "    }\n",
              "\n",
              "    .dataframe thead th {\n",
              "        text-align: right;\n",
              "    }\n",
              "</style>\n",
              "<table border=\"1\" class=\"dataframe\">\n",
              "  <thead>\n",
              "    <tr style=\"text-align: right;\">\n",
              "      <th></th>\n",
              "      <th>mean</th>\n",
              "      <th>50%</th>\n",
              "    </tr>\n",
              "  </thead>\n",
              "  <tbody>\n",
              "    <tr>\n",
              "      <th>account_length</th>\n",
              "      <td>100.236235</td>\n",
              "      <td>100.00</td>\n",
              "    </tr>\n",
              "    <tr>\n",
              "      <th>number_vmail_messages</th>\n",
              "      <td>7.631765</td>\n",
              "      <td>0.00</td>\n",
              "    </tr>\n",
              "    <tr>\n",
              "      <th>total_day_minutes</th>\n",
              "      <td>180.259600</td>\n",
              "      <td>180.45</td>\n",
              "    </tr>\n",
              "    <tr>\n",
              "      <th>total_day_calls</th>\n",
              "      <td>99.907294</td>\n",
              "      <td>100.00</td>\n",
              "    </tr>\n",
              "    <tr>\n",
              "      <th>total_day_charge</th>\n",
              "      <td>30.644682</td>\n",
              "      <td>30.68</td>\n",
              "    </tr>\n",
              "    <tr>\n",
              "      <th>total_eve_minutes</th>\n",
              "      <td>200.173906</td>\n",
              "      <td>200.70</td>\n",
              "    </tr>\n",
              "    <tr>\n",
              "      <th>total_eve_calls</th>\n",
              "      <td>100.176471</td>\n",
              "      <td>100.00</td>\n",
              "    </tr>\n",
              "    <tr>\n",
              "      <th>total_eve_charge</th>\n",
              "      <td>17.015012</td>\n",
              "      <td>17.06</td>\n",
              "    </tr>\n",
              "    <tr>\n",
              "      <th>total_night_minutes</th>\n",
              "      <td>200.527882</td>\n",
              "      <td>200.45</td>\n",
              "    </tr>\n",
              "    <tr>\n",
              "      <th>total_night_calls</th>\n",
              "      <td>99.839529</td>\n",
              "      <td>100.00</td>\n",
              "    </tr>\n",
              "    <tr>\n",
              "      <th>total_night_charge</th>\n",
              "      <td>9.023892</td>\n",
              "      <td>9.02</td>\n",
              "    </tr>\n",
              "    <tr>\n",
              "      <th>total_intl_minutes</th>\n",
              "      <td>10.256071</td>\n",
              "      <td>10.30</td>\n",
              "    </tr>\n",
              "    <tr>\n",
              "      <th>total_intl_calls</th>\n",
              "      <td>4.426353</td>\n",
              "      <td>4.00</td>\n",
              "    </tr>\n",
              "    <tr>\n",
              "      <th>total_intl_charge</th>\n",
              "      <td>2.769654</td>\n",
              "      <td>2.78</td>\n",
              "    </tr>\n",
              "    <tr>\n",
              "      <th>number_customer_service_calls</th>\n",
              "      <td>1.559059</td>\n",
              "      <td>1.00</td>\n",
              "    </tr>\n",
              "  </tbody>\n",
              "</table>\n",
              "</div>\n",
              "      <button class=\"colab-df-convert\" onclick=\"convertToInteractive('df-1bbacfe0-0957-406b-9b43-04862c04e76d')\"\n",
              "              title=\"Convert this dataframe to an interactive table.\"\n",
              "              style=\"display:none;\">\n",
              "        \n",
              "  <svg xmlns=\"http://www.w3.org/2000/svg\" height=\"24px\"viewBox=\"0 0 24 24\"\n",
              "       width=\"24px\">\n",
              "    <path d=\"M0 0h24v24H0V0z\" fill=\"none\"/>\n",
              "    <path d=\"M18.56 5.44l.94 2.06.94-2.06 2.06-.94-2.06-.94-.94-2.06-.94 2.06-2.06.94zm-11 1L8.5 8.5l.94-2.06 2.06-.94-2.06-.94L8.5 2.5l-.94 2.06-2.06.94zm10 10l.94 2.06.94-2.06 2.06-.94-2.06-.94-.94-2.06-.94 2.06-2.06.94z\"/><path d=\"M17.41 7.96l-1.37-1.37c-.4-.4-.92-.59-1.43-.59-.52 0-1.04.2-1.43.59L10.3 9.45l-7.72 7.72c-.78.78-.78 2.05 0 2.83L4 21.41c.39.39.9.59 1.41.59.51 0 1.02-.2 1.41-.59l7.78-7.78 2.81-2.81c.8-.78.8-2.07 0-2.86zM5.41 20L4 18.59l7.72-7.72 1.47 1.35L5.41 20z\"/>\n",
              "  </svg>\n",
              "      </button>\n",
              "      \n",
              "  <style>\n",
              "    .colab-df-container {\n",
              "      display:flex;\n",
              "      flex-wrap:wrap;\n",
              "      gap: 12px;\n",
              "    }\n",
              "\n",
              "    .colab-df-convert {\n",
              "      background-color: #E8F0FE;\n",
              "      border: none;\n",
              "      border-radius: 50%;\n",
              "      cursor: pointer;\n",
              "      display: none;\n",
              "      fill: #1967D2;\n",
              "      height: 32px;\n",
              "      padding: 0 0 0 0;\n",
              "      width: 32px;\n",
              "    }\n",
              "\n",
              "    .colab-df-convert:hover {\n",
              "      background-color: #E2EBFA;\n",
              "      box-shadow: 0px 1px 2px rgba(60, 64, 67, 0.3), 0px 1px 3px 1px rgba(60, 64, 67, 0.15);\n",
              "      fill: #174EA6;\n",
              "    }\n",
              "\n",
              "    [theme=dark] .colab-df-convert {\n",
              "      background-color: #3B4455;\n",
              "      fill: #D2E3FC;\n",
              "    }\n",
              "\n",
              "    [theme=dark] .colab-df-convert:hover {\n",
              "      background-color: #434B5C;\n",
              "      box-shadow: 0px 1px 3px 1px rgba(0, 0, 0, 0.15);\n",
              "      filter: drop-shadow(0px 1px 2px rgba(0, 0, 0, 0.3));\n",
              "      fill: #FFFFFF;\n",
              "    }\n",
              "  </style>\n",
              "\n",
              "      <script>\n",
              "        const buttonEl =\n",
              "          document.querySelector('#df-1bbacfe0-0957-406b-9b43-04862c04e76d button.colab-df-convert');\n",
              "        buttonEl.style.display =\n",
              "          google.colab.kernel.accessAllowed ? 'block' : 'none';\n",
              "\n",
              "        async function convertToInteractive(key) {\n",
              "          const element = document.querySelector('#df-1bbacfe0-0957-406b-9b43-04862c04e76d');\n",
              "          const dataTable =\n",
              "            await google.colab.kernel.invokeFunction('convertToInteractive',\n",
              "                                                     [key], {});\n",
              "          if (!dataTable) return;\n",
              "\n",
              "          const docLinkHtml = 'Like what you see? Visit the ' +\n",
              "            '<a target=\"_blank\" href=https://colab.research.google.com/notebooks/data_table.ipynb>data table notebook</a>'\n",
              "            + ' to learn more about interactive tables.';\n",
              "          element.innerHTML = '';\n",
              "          dataTable['output_type'] = 'display_data';\n",
              "          await google.colab.output.renderOutput(dataTable, element);\n",
              "          const docLink = document.createElement('div');\n",
              "          docLink.innerHTML = docLinkHtml;\n",
              "          element.appendChild(docLink);\n",
              "        }\n",
              "      </script>\n",
              "    </div>\n",
              "  </div>\n",
              "  "
            ]
          },
          "metadata": {},
          "execution_count": 8
        }
      ]
    },
    {
      "cell_type": "markdown",
      "source": [
        "Dari statistika deskriptif, kita dapat mengetahui kolom mana yang memiliki kemungkinan terdistribusi normal, di mana nilai mean memiliki kemiripan dengan median. Kolom tersebut adalah semua yang berkaitan dengan day call, eve call, night call, dan international call mulai dari total waktu (menit), jumlah panggilan maupun biaya yang dikeluarkan."
      ],
      "metadata": {
        "id": "Wf7i4YQDoP1z"
      }
    },
    {
      "cell_type": "markdown",
      "source": [
        "## Step 2: Exploratory Data Analysis 📊\n",
        "\n",
        "Tahapan Exploratory Data Analysis (EDA) digunakan untuk memahami karakteristik dari dataset yang disajikan dalam bentuk visualisasi maupun statistika deskriptif."
      ],
      "metadata": {
        "id": "F0zQuGd_DOrV"
      }
    },
    {
      "cell_type": "markdown",
      "source": [
        "#### EDA 1. Persebaran Label"
      ],
      "metadata": {
        "id": "n4GG3l3_F56D"
      }
    },
    {
      "cell_type": "code",
      "source": [
        "fig, ax = plt.subplots()\n",
        "sns.countplot(data=df_train, x=\"churn\", palette=[\"#b100cd\",\"#ff8303\"], ax=ax)\n",
        "for i, p in enumerate(ax.patches):\n",
        "    height = p.get_height()\n",
        "    ax.text(p.get_x()+p.get_width()/2, height+90, height, ha=\"center\")\n",
        "ax.spines['top'].set_visible(False)\n",
        "ax.spines['right'].set_visible(False)\n",
        "ax.spines['bottom'].set_visible(False)\n",
        "ax.spines['left'].set_visible(False)\n",
        "ax.set_title(\"Persebaran Label\", fontsize=14, pad=20)\n",
        "ax.set_xlabel(\"Churn\",fontsize=13)\n",
        "ax.get_yaxis().set_visible(False)\n",
        "plt.show()"
      ],
      "metadata": {
        "colab": {
          "base_uri": "https://localhost:8080/",
          "height": 313
        },
        "id": "ZdQjj_ZPF-NL",
        "outputId": "d61c6d2f-94f6-4c51-e864-5bd2995e2c01"
      },
      "execution_count": null,
      "outputs": [
        {
          "output_type": "display_data",
          "data": {
            "text/plain": [
              "<Figure size 432x288 with 1 Axes>"
            ],
            "image/png": "[encoded data removed]"
          },
          "metadata": {
            "needs_background": "light"
          }
        }
      ]
    },
    {
      "cell_type": "markdown",
      "source": [
        "Dari visualisasi di atas terlihat bahwa komposisi label tidak seimbang (7:1). Hal ini mengindikasikan bahwa pada perusahaan tersebut jarang ditemukan kasus pelanggan yang beralih provider (churn)."
      ],
      "metadata": {
        "id": "0k2mZj4WqixD"
      }
    },
    {
      "cell_type": "markdown",
      "source": [
        "#### EDA 2. Pesebaran State dan Area Code"
      ],
      "metadata": {
        "id": "I1HCrcCDA48d"
      }
    },
    {
      "cell_type": "code",
      "source": [
        "#fungsi barplot untuk state dan area code\n",
        "def bar(data, col, color, title, xlabel, figsize):\n",
        "  fig, ax = plt.subplots(figsize=figsize)\n",
        "  sns.countplot(data=data, x=col, color=color, ax=ax, order=data[col].value_counts().sort_index().index)\n",
        "  for i, p in enumerate(ax.patches):\n",
        "    height = p.get_height()\n",
        "    ax.text(p.get_x()+p.get_width()/2, height+1, height, ha=\"center\")\n",
        "  ax.spines['top'].set_visible(False)\n",
        "  ax.spines['right'].set_visible(False)\n",
        "  ax.spines['bottom'].set_visible(False)\n",
        "  ax.spines['left'].set_visible(False)\n",
        "  ax.set_title(title, fontsize=15, pad=20)\n",
        "  ax.set_xlabel(xlabel,fontsize=13)\n",
        "  ax.get_yaxis().set_visible(False)\n",
        "  plt.show()"
      ],
      "metadata": {
        "id": "HrF2JfgD7kbM"
      },
      "execution_count": null,
      "outputs": []
    },
    {
      "cell_type": "code",
      "source": [
        "bar(data=df_train, col=\"state\", color=\"#b100cd\", title=\"Persebaran State\", xlabel=\"State\", figsize=(18,6))"
      ],
      "metadata": {
        "colab": {
          "base_uri": "https://localhost:8080/",
          "height": 423
        },
        "id": "NMoc-pE__AaB",
        "outputId": "35499d20-8d41-48f3-ec40-a9be96aec813"
      },
      "execution_count": null,
      "outputs": [
        {
          "output_type": "display_data",
          "data": {
            "text/plain": [
              "<Figure size 1296x432 with 1 Axes>"
            ],
            "image/png": "[encoded data removed]"
          },
          "metadata": {
            "needs_background": "light"
          }
        }
      ]
    },
    {
      "cell_type": "code",
      "source": [
        "churn = df_train[df_train[\"churn\"]==\"yes\"]\n",
        "bar(data=churn, col=\"state\", color=\"#ff8303\", title=\"Persebaran State Pelanggan Churn\", xlabel=\"State\", figsize=(18,6))"
      ],
      "metadata": {
        "colab": {
          "base_uri": "https://localhost:8080/",
          "height": 423
        },
        "id": "1vTIp6oA_ch0",
        "outputId": "b06a246d-91ee-48e3-b186-9abdee9e94e6"
      },
      "execution_count": null,
      "outputs": [
        {
          "output_type": "display_data",
          "data": {
            "text/plain": [
              "<Figure size 1296x432 with 1 Axes>"
            ],
            "image/png": "[encoded data removed]"
          },
          "metadata": {
            "needs_background": "light"
          }
        }
      ]
    },
    {
      "cell_type": "code",
      "source": [
        "bar(data=df_train, col=\"area_code\", color=\"#b100cd\", title=\"Persebaran Area Code\", xlabel=\"Area Code\", figsize=(8,6))"
      ],
      "metadata": {
        "colab": {
          "base_uri": "https://localhost:8080/",
          "height": 424
        },
        "id": "RlVaYtdO_zjI",
        "outputId": "2228bd4d-3df0-499a-947c-a4029e021ccb"
      },
      "execution_count": null,
      "outputs": [
        {
          "output_type": "display_data",
          "data": {
            "text/plain": [
              "<Figure size 576x432 with 1 Axes>"
            ],
            "image/png": "[encoded data removed]"
          },
          "metadata": {
            "needs_background": "light"
          }
        }
      ]
    },
    {
      "cell_type": "code",
      "source": [
        "churn = df_train[df_train[\"churn\"]==\"yes\"]\n",
        "bar(data=churn, col=\"area_code\", color=\"#ff8303\", title=\"Persebaran Area Code Pelanggan Churn\", xlabel=\"Area Code\", figsize=(8,6))"
      ],
      "metadata": {
        "colab": {
          "base_uri": "https://localhost:8080/",
          "height": 424
        },
        "id": "r4jlauyDALRQ",
        "outputId": "9a626445-363e-4035-9df8-835c7037f7c4"
      },
      "execution_count": null,
      "outputs": [
        {
          "output_type": "display_data",
          "data": {
            "text/plain": [
              "<Figure size 576x432 with 1 Axes>"
            ],
            "image/png": "[encoded data removed]"
          },
          "metadata": {
            "needs_background": "light"
          }
        }
      ]
    },
    {
      "cell_type": "markdown",
      "source": [
        "Terdapat 51 state yang tersebar pada dataset train. WV adalah state paling banyak ditemukan dengan jumlah 139 data. Di sisi lain, state CA adalah yang paling sedikit dengan jumlah kemunculan sebanyak 39 data. Pelanggan churn banyak ditemukan pada state NJ sejumlah 26 pelanggan dan kode area 415 sejumlah 287 pelanggan."
      ],
      "metadata": {
        "id": "Iqv7KAAtq1Oe"
      }
    },
    {
      "cell_type": "markdown",
      "source": [
        "#### EDA 3. Account Length terhadap Churn\n",
        "\n"
      ],
      "metadata": {
        "id": "4qypUir3FEkV"
      }
    },
    {
      "cell_type": "code",
      "source": [
        "fig, ax = plt.subplots()\n",
        "sns.boxplot(data=df_train, x=\"churn\", y=\"account_length\", ax=ax, palette=[\"#b100cd\",\"#ff8303\"])\n",
        "ax.set_title(\"Persebaran Account Length\", fontsize=13, pad=15)\n",
        "ax.set_xlabel(\"Churn\", fontsize=10)\n",
        "ax.set_ylabel(\"Account Length\", fontsize=10)\n",
        "plt.show()"
      ],
      "metadata": {
        "colab": {
          "base_uri": "https://localhost:8080/",
          "height": 304
        },
        "id": "w3mhYrhQBFWC",
        "outputId": "98027969-b02b-4be5-e24a-b064c362dc91"
      },
      "execution_count": null,
      "outputs": [
        {
          "output_type": "display_data",
          "data": {
            "text/plain": [
              "<Figure size 432x288 with 1 Axes>"
            ],
            "image/png": "[encoded data removed]"
          },
          "metadata": {
            "needs_background": "light"
          }
        }
      ]
    },
    {
      "cell_type": "code",
      "source": [
        "fig, ax = plt.subplots()\n",
        "sns.kdeplot(data=df_train, hue=\"churn\", x=\"account_length\", fill=True, ax=ax, palette=[\"#b100cd\",\"#ff8303\"])\n",
        "ax.set_title(\"Persebaran Account Length\", fontsize=13, pad=15)\n",
        "ax.set_xlabel(\"Account Length\", fontsize=10)\n",
        "plt.show()"
      ],
      "metadata": {
        "colab": {
          "base_uri": "https://localhost:8080/",
          "height": 304
        },
        "id": "zzwAijpzMjxJ",
        "outputId": "dea5bc5b-3b93-4700-bb28-13b2f4cdbbc4"
      },
      "execution_count": null,
      "outputs": [
        {
          "output_type": "display_data",
          "data": {
            "text/plain": [
              "<Figure size 432x288 with 1 Axes>"
            ],
            "image/png": "[encoded data removed]"
          },
          "metadata": {
            "needs_background": "light"
          }
        }
      ]
    },
    {
      "cell_type": "markdown",
      "source": [
        "Account length menunjukkan seberapa lama pelanggan menggunakan layanan provider dari perusahaan. Visualisasi boxplot di atas menunjukkan bahwa sebaran account length dari pelanggan churn maupun no churn tidak memiliki perbedaan yang signifikan. Selain itu, juga ditemukan outlier pada persebaran account length untuk kedua label."
      ],
      "metadata": {
        "id": "w9GndnC8rnX5"
      }
    },
    {
      "cell_type": "markdown",
      "source": [
        "#### EDA 4. International dan Voice Mail Plan terhadap Churn\n"
      ],
      "metadata": {
        "id": "JS8b3tlwVA5l"
      }
    },
    {
      "cell_type": "code",
      "source": [
        "fig, ax = plt.subplots(figsize=(8,5))\n",
        "sns.countplot(data=df_train, x=\"international_plan\", hue=\"churn\", ax=ax, palette=[\"#b100cd\",\"#ff8303\"])\n",
        "for i, p in enumerate(ax.patches):\n",
        "    height = p.get_height()\n",
        "    ax.text(p.get_x()+p.get_width()/2, height+90, height, ha=\"center\")\n",
        "ax.spines['top'].set_visible(False)\n",
        "ax.spines['right'].set_visible(False)\n",
        "ax.spines['bottom'].set_visible(False)\n",
        "ax.spines['left'].set_visible(False)\n",
        "ax.set_title(\"Sebaran International Plan\", fontsize=15, pad=20)\n",
        "ax.set_xlabel(\"International Plan\",fontsize=13)\n",
        "ax.get_yaxis().set_visible(False)\n",
        "plt.show()"
      ],
      "metadata": {
        "colab": {
          "base_uri": "https://localhost:8080/",
          "height": 369
        },
        "id": "cNdFPG4gVLON",
        "outputId": "77c66480-26e1-46b3-b1de-b4821a58e2c5"
      },
      "execution_count": null,
      "outputs": [
        {
          "output_type": "display_data",
          "data": {
            "text/plain": [
              "<Figure size 576x360 with 1 Axes>"
            ],
            "image/png": "[encoded data removed]"
          },
          "metadata": {
            "needs_background": "light"
          }
        }
      ]
    },
    {
      "cell_type": "code",
      "source": [
        "fig, ax = plt.subplots(figsize=(8,5))\n",
        "sns.countplot(data=df_train, x=\"voice_mail_plan\", hue=\"churn\", order=[\"no\", \"yes\"], ax=ax, palette=[\"#b100cd\",\"#ff8303\"])\n",
        "for i, p in enumerate(ax.patches):\n",
        "    height = p.get_height()\n",
        "    ax.text(p.get_x()+p.get_width()/2, height+90, height, ha=\"center\")\n",
        "ax.spines['top'].set_visible(False)\n",
        "ax.spines['right'].set_visible(False)\n",
        "ax.spines['bottom'].set_visible(False)\n",
        "ax.spines['left'].set_visible(False)\n",
        "ax.set_title(\"Sebaran Voice Mail Plan\", fontsize=15, pad=20)\n",
        "ax.set_xlabel(\"Voice Mail Plan\",fontsize=13)\n",
        "ax.get_yaxis().set_visible(False)\n",
        "plt.show()"
      ],
      "metadata": {
        "colab": {
          "base_uri": "https://localhost:8080/",
          "height": 369
        },
        "id": "wA1QMu7MVgm2",
        "outputId": "882deb14-cffb-42b0-d981-a2d8d1a0f799"
      },
      "execution_count": null,
      "outputs": [
        {
          "output_type": "display_data",
          "data": {
            "text/plain": [
              "<Figure size 576x360 with 1 Axes>"
            ],
            "image/png": "[encoded data removed]"
          },
          "metadata": {
            "needs_background": "light"
          }
        }
      ]
    },
    {
      "cell_type": "markdown",
      "source": [
        "Dari kedua visualisasi, kita dapat mengetahui bahwa pelanggan yang churn cenderung tidak menggunakan voice mail maupun international plan."
      ],
      "metadata": {
        "id": "fmwWjbHauBmp"
      }
    },
    {
      "cell_type": "markdown",
      "source": [
        "#### EDA 5. Jumlah Voice Mail Messages terhadap Churn\n",
        "Untuk visualisasi di bawah ini, saya akan melakukan filter terlebih dahulu untuk memilih pelanggan yang menggunakan voice mail plan."
      ],
      "metadata": {
        "id": "TG7IVFnEb9V7"
      }
    },
    {
      "cell_type": "code",
      "source": [
        "fig, ax = plt.subplots()\n",
        "voicemail = df_train[df_train['voice_mail_plan']==\"yes\"]\n",
        "sns.boxplot(data=voicemail, x=\"churn\", y=\"number_vmail_messages\", ax=ax, palette=[\"#b100cd\",\"#ff8303\"])\n",
        "ax.set_title(\"Persebaran Voice Mail Messages\", fontsize=13, pad=15)\n",
        "ax.set_xlabel(\"Churn\", fontsize=10)\n",
        "ax.set_ylabel(\"Number of Vmail\", fontsize=10)\n",
        "plt.show()"
      ],
      "metadata": {
        "colab": {
          "base_uri": "https://localhost:8080/",
          "height": 304
        },
        "id": "bKWdjPrBb83g",
        "outputId": "2d872e1e-b954-44b0-eada-a870762eb91c"
      },
      "execution_count": null,
      "outputs": [
        {
          "output_type": "display_data",
          "data": {
            "text/plain": [
              "<Figure size 432x288 with 1 Axes>"
            ],
            "image/png": "[encoded data removed]"
          },
          "metadata": {
            "needs_background": "light"
          }
        }
      ]
    },
    {
      "cell_type": "code",
      "source": [
        "fig, ax = plt.subplots()\n",
        "voicemail = df_train[df_train['voice_mail_plan']==\"yes\"]\n",
        "sns.kdeplot(data=voicemail,hue=\"churn\", fill=True, x=\"number_vmail_messages\", ax=ax, palette=[\"#b100cd\",\"#ff8303\"])\n",
        "ax.set_title(\"Persebaran Voice Mail Messages\", fontsize=13, pad=15)\n",
        "ax.set_xlabel(\"Number of Vmail\", fontsize=10)\n",
        "plt.show()"
      ],
      "metadata": {
        "colab": {
          "base_uri": "https://localhost:8080/",
          "height": 304
        },
        "id": "CsNviKV8SCFw",
        "outputId": "1c36fc69-bf5d-4d8a-edf8-ead6f6b59097"
      },
      "execution_count": null,
      "outputs": [
        {
          "output_type": "display_data",
          "data": {
            "text/plain": [
              "<Figure size 432x288 with 1 Axes>"
            ],
            "image/png": "[encoded data removed]"
          },
          "metadata": {
            "needs_background": "light"
          }
        }
      ]
    },
    {
      "cell_type": "markdown",
      "source": [
        "Dari visualisasi boxplot, kita dapat mengetahui bahwa pelanggan churn yang menggunakan voice mail cenderung mengirimkan voice mail lebih banyak daripada pelanggan no churn yang menggunakan voice mail."
      ],
      "metadata": {
        "id": "KLJB6kPFvayH"
      }
    },
    {
      "cell_type": "markdown",
      "source": [
        "#### EDA 6. Day Call terhadap Churn"
      ],
      "metadata": {
        "id": "PcvJxuJIL7rm"
      }
    },
    {
      "cell_type": "code",
      "source": [
        "#fungsi untuk membuat boxplot dan kdeplot\n",
        "\n",
        "def cols_plot(list_cols, mode_=\"box\"):\n",
        "  fig, ax = plt.subplots(ncols=len(list_cols), figsize=(20,5))\n",
        "  if mode_==\"box\":\n",
        "    for i,v in enumerate(list_cols):\n",
        "      sns.boxplot(data=df_train, x=\"churn\", y=v, ax=ax[i], palette=[\"#b100cd\",\"#ff8303\"])\n",
        "      ax[i].set_title(\"Persebaran\"+\" \"+re.sub(\"_\", \" \", v).title(), fontsize=13, pad=15)\n",
        "      ax[i].set_ylabel(re.sub(\"_\", \" \", v).title(), fontsize=10)\n",
        "      ax[i].set_xlabel(\"Churn\")\n",
        "\n",
        "  elif mode_==\"kde\":\n",
        "    for i,v in enumerate(list_cols):\n",
        "      sns.kdeplot(data=df_train, fill=True, hue=\"churn\", x=v, ax=ax[i], palette=[\"#b100cd\",\"#ff8303\"])\n",
        "      ax[i].set_title(\"Persebaran\"+\" \"+re.sub(\"_\", \" \", v).title(), fontsize=13, pad=15)\n",
        "      ax[i].set_xlabel(re.sub(\"_\", \" \", v).title(), fontsize=10)\n",
        "\n",
        "  else:\n",
        "    print(\"Wrong Argument !\")\n",
        "\n",
        "  plt.show()"
      ],
      "metadata": {
        "id": "khT2FzT0a569"
      },
      "execution_count": null,
      "outputs": []
    },
    {
      "cell_type": "code",
      "source": [
        "day_cols = ['total_day_minutes','total_day_calls', 'total_day_charge']\n",
        "cols_plot(day_cols, mode_=\"box\")"
      ],
      "metadata": {
        "colab": {
          "base_uri": "https://localhost:8080/",
          "height": 359
        },
        "id": "gfaarg89To1t",
        "outputId": "4019f333-c783-452b-b0b3-76e938430269"
      },
      "execution_count": null,
      "outputs": [
        {
          "output_type": "display_data",
          "data": {
            "text/plain": [
              "<Figure size 1440x360 with 3 Axes>"
            ],
            "image/png": "[encoded data removed]"
          },
          "metadata": {
            "needs_background": "light"
          }
        }
      ]
    },
    {
      "cell_type": "code",
      "source": [
        "day_cols = ['total_day_minutes','total_day_calls', 'total_day_charge']\n",
        "cols_plot(day_cols, mode_=\"kde\")"
      ],
      "metadata": {
        "id": "pCatbIgAXOYh",
        "colab": {
          "base_uri": "https://localhost:8080/",
          "height": 359
        },
        "outputId": "a36dab3f-da96-4989-8e73-9218ade4f75b"
      },
      "execution_count": null,
      "outputs": [
        {
          "output_type": "display_data",
          "data": {
            "text/plain": [
              "<Figure size 1440x360 with 3 Axes>"
            ],
            "image/png": "[encoded data removed]"
          },
          "metadata": {
            "needs_background": "light"
          }
        }
      ]
    },
    {
      "cell_type": "markdown",
      "source": [
        "Dari visualisasi di atas, pelanggan churn cenderung menghabiskan waktu dan biaya yang lebih lama untuk melakukan day call. Selain itu, sebaran total day minutes memiliki bentuk yang sangat mirip dengan total day charge. Saya memiliki hipotesis bahwa variabel total day charge diperoleh dengan mengalikan total day minutes dengan biaya day call per menit. Saya akan mencoba mencari besaran biaya day call per menit tersebut kemudian memvisualisasikan persebarannya. Jika ternyata biaya day call per menit memiliki kemiripan satu sama lain, maka variabel total day charge merupakan turunan dari total day minutes sehingga kita cukup memakai salah satu dari dua variabel tersebut."
      ],
      "metadata": {
        "id": "1HWYgXC0y1EZ"
      }
    },
    {
      "cell_type": "code",
      "source": [
        "daycharge_per_minutes = df_train['total_day_charge']/df_train['total_day_minutes']\n",
        "fig, ax = plt.subplots( figsize=(8,5))\n",
        "sns.histplot(daycharge_per_minutes, color=\"#b100cd\", ax=ax)\n",
        "ax.set_title(\"Persebaran Day Charge per Minutes\", fontsize=13, pad=20)\n",
        "ax.set_xlabel(\"Day Charge per Minutes\")\n",
        "plt.show()"
      ],
      "metadata": {
        "colab": {
          "base_uri": "https://localhost:8080/",
          "height": 364
        },
        "id": "3E0ggbwY0GH3",
        "outputId": "fd3c81ed-6878-447b-a05a-07863de99b33"
      },
      "execution_count": null,
      "outputs": [
        {
          "output_type": "display_data",
          "data": {
            "text/plain": [
              "<Figure size 576x360 with 1 Axes>"
            ],
            "image/png": "[encoded data removed]"
          },
          "metadata": {
            "needs_background": "light"
          }
        }
      ]
    },
    {
      "cell_type": "markdown",
      "source": [
        "Hmmm, hipotesis saya terbukti. Biaya per menit untuk day call cenderung memiliki selisih yang sangat kecil antara satu dengan yang lain. Oleh karena itu, saya cukup menggunakan variabel total_day_charge saja."
      ],
      "metadata": {
        "id": "E5KMeE832dBu"
      }
    },
    {
      "cell_type": "markdown",
      "source": [
        "#### EDA 7. Eve Call terhadap Churn\n"
      ],
      "metadata": {
        "id": "wp7F3eRRWhNS"
      }
    },
    {
      "cell_type": "code",
      "source": [
        "eve_cols = ['total_eve_minutes', 'total_eve_calls', 'total_eve_charge']\n",
        "cols_plot(eve_cols, mode_=\"box\")"
      ],
      "metadata": {
        "id": "LMBNPZbyLGst",
        "colab": {
          "base_uri": "https://localhost:8080/",
          "height": 359
        },
        "outputId": "d78f84f2-ae53-488d-9775-63a31afa7be2"
      },
      "execution_count": null,
      "outputs": [
        {
          "output_type": "display_data",
          "data": {
            "text/plain": [
              "<Figure size 1440x360 with 3 Axes>"
            ],
            "image/png": "[encoded data removed]"
          },
          "metadata": {
            "needs_background": "light"
          }
        }
      ]
    },
    {
      "cell_type": "code",
      "source": [
        "eve_cols = ['total_eve_minutes', 'total_eve_calls', 'total_eve_charge']\n",
        "cols_plot(eve_cols, mode_=\"kde\")"
      ],
      "metadata": {
        "colab": {
          "base_uri": "https://localhost:8080/",
          "height": 359
        },
        "id": "9sdhBWjQWgIK",
        "outputId": "0740ac76-233f-41d5-f356-8d26539980a0"
      },
      "execution_count": null,
      "outputs": [
        {
          "output_type": "display_data",
          "data": {
            "text/plain": [
              "<Figure size 1440x360 with 3 Axes>"
            ],
            "image/png": "[encoded data removed]"
          },
          "metadata": {
            "needs_background": "light"
          }
        }
      ]
    },
    {
      "cell_type": "markdown",
      "source": [
        "Dari visualisasi di atas, pelanggan churn cenderung menghabiskan waktu dan biaya yang lebih lama untuk melakukan eve call. Sama halnya dengan day call, ditemukan bentuk persebaran yang sangat mirip antara variabel total eve minutes dan total eve charge. Saya akan memvisualisasikan biaya per menit untuk eve call supaya bisa mengetahui apakah biaya eve call per menit memiliki kemiripan satu sama lain."
      ],
      "metadata": {
        "id": "zak-gOVdEC1G"
      }
    },
    {
      "cell_type": "code",
      "source": [
        "evecharge_per_minutes = df_train['total_eve_charge']/df_train['total_eve_minutes']\n",
        "fig, ax = plt.subplots( figsize=(8,5))\n",
        "sns.histplot(evecharge_per_minutes, color=\"#b100cd\", ax=ax)\n",
        "ax.set_title(\"Persebaran Eve Charge per Minutes\", fontsize=13, pad=20)\n",
        "ax.set_xlabel(\"Eve Charge per Minutes\")\n",
        "plt.show()"
      ],
      "metadata": {
        "colab": {
          "base_uri": "https://localhost:8080/",
          "height": 364
        },
        "id": "uRetrbZ1EB_2",
        "outputId": "5c16d2f4-fa3e-4245-9007-3c73d86a7a50"
      },
      "execution_count": null,
      "outputs": [
        {
          "output_type": "display_data",
          "data": {
            "text/plain": [
              "<Figure size 576x360 with 1 Axes>"
            ],
            "image/png": "[encoded data removed]"
          },
          "metadata": {
            "needs_background": "light"
          }
        }
      ]
    },
    {
      "cell_type": "markdown",
      "source": [
        "Biaya per menit untuk eve call cenderung memiliki selisih yang sangat kecil antara satu dengan yang lain. Oleh karena itu, saya cukup menggunakan variabel total eve charge dan tidak menggunakan variabel total eve minutes."
      ],
      "metadata": {
        "id": "y3MiXM3-FNB8"
      }
    },
    {
      "cell_type": "markdown",
      "source": [
        "#### EDA 8. Night Call terhadap Churn"
      ],
      "metadata": {
        "id": "v7v4OCuDYBMi"
      }
    },
    {
      "cell_type": "code",
      "source": [
        "night_cols = ['total_night_minutes', 'total_night_calls', 'total_night_charge']\n",
        "cols_plot(night_cols, mode_=\"box\")"
      ],
      "metadata": {
        "colab": {
          "base_uri": "https://localhost:8080/",
          "height": 359
        },
        "id": "XJHyv6JIXuXt",
        "outputId": "e29b33f2-7e5b-425d-9826-47969383d2c8"
      },
      "execution_count": null,
      "outputs": [
        {
          "output_type": "display_data",
          "data": {
            "text/plain": [
              "<Figure size 1440x360 with 3 Axes>"
            ],
            "image/png": "[encoded data removed]"
          },
          "metadata": {
            "needs_background": "light"
          }
        }
      ]
    },
    {
      "cell_type": "code",
      "source": [
        "night_cols = ['total_night_minutes', 'total_night_calls', 'total_night_charge']\n",
        "cols_plot(night_cols, mode_=\"kde\")"
      ],
      "metadata": {
        "colab": {
          "base_uri": "https://localhost:8080/",
          "height": 359
        },
        "id": "sAB0M4OPZSAI",
        "outputId": "0f691ece-4b1a-41b2-a19c-bc744df607b6"
      },
      "execution_count": null,
      "outputs": [
        {
          "output_type": "display_data",
          "data": {
            "text/plain": [
              "<Figure size 1440x360 with 3 Axes>"
            ],
            "image/png": "[encoded data removed]"
          },
          "metadata": {
            "needs_background": "light"
          }
        }
      ]
    },
    {
      "cell_type": "markdown",
      "source": [
        "Dari visualisasi di atas, pelanggan churn cenderung menghabiskan waktu dan biaya yang lebih lama untuk melakukan night call. Selain itu, juga ditemukan bentuk persebaran yang sangat mirip antara variabel total night minutes dan total night charge. Saya akan memvisualisasikan biaya per menit untuk night call supaya bisa mengetahui apakah biaya night call per menit memiliki kemiripan satu sama lain."
      ],
      "metadata": {
        "id": "pUBBWeZj3h_3"
      }
    },
    {
      "cell_type": "code",
      "source": [
        "nightcharge_per_minutes = df_train['total_night_charge']/df_train['total_night_minutes']\n",
        "fig, ax = plt.subplots( figsize=(8,5))\n",
        "sns.histplot(nightcharge_per_minutes, color=\"#b100cd\", ax=ax)\n",
        "ax.set_title(\"Persebaran Night Charge per Minutes\", fontsize=13, pad=20)\n",
        "ax.set_xlabel(\"Night Charge per Minutes\")\n",
        "plt.show()"
      ],
      "metadata": {
        "colab": {
          "base_uri": "https://localhost:8080/",
          "height": 364
        },
        "id": "B8F3xOEsJslE",
        "outputId": "96a0e241-23b6-4d0e-c929-82dbc7ceb6c8"
      },
      "execution_count": null,
      "outputs": [
        {
          "output_type": "display_data",
          "data": {
            "text/plain": [
              "<Figure size 576x360 with 1 Axes>"
            ],
            "image/png": "[encoded data removed]"
          },
          "metadata": {
            "needs_background": "light"
          }
        }
      ]
    },
    {
      "cell_type": "markdown",
      "source": [
        "Biaya per menit untuk night call cenderung memiliki selisih yang sangat kecil antara satu dengan yang lain. Oleh karena itu, saya cukup menggunakan variabel total night charge dan tidak menggunakan variabel total night minutes."
      ],
      "metadata": {
        "id": "O6vm0juS4cng"
      }
    },
    {
      "cell_type": "markdown",
      "source": [
        "#### EDA 9. International Call terhadap Churn"
      ],
      "metadata": {
        "id": "YZOCEQf3Z0ty"
      }
    },
    {
      "cell_type": "code",
      "source": [
        "intl_cols = ['total_intl_minutes', 'total_intl_calls', 'total_intl_charge']\n",
        "cols_plot(intl_cols, mode_=\"box\")"
      ],
      "metadata": {
        "colab": {
          "base_uri": "https://localhost:8080/",
          "height": 359
        },
        "id": "GmyRr-8EZL8L",
        "outputId": "61126bd7-fb73-482c-8714-08dda4dc3d7e"
      },
      "execution_count": null,
      "outputs": [
        {
          "output_type": "display_data",
          "data": {
            "text/plain": [
              "<Figure size 1440x360 with 3 Axes>"
            ],
            "image/png": "[encoded data removed]"
          },
          "metadata": {
            "needs_background": "light"
          }
        }
      ]
    },
    {
      "cell_type": "code",
      "source": [
        "intl_cols = ['total_intl_minutes', 'total_intl_calls', 'total_intl_charge']\n",
        "cols_plot(intl_cols, mode_=\"kde\")"
      ],
      "metadata": {
        "colab": {
          "base_uri": "https://localhost:8080/",
          "height": 359
        },
        "id": "jwH3K9eUeWHp",
        "outputId": "393c2935-462d-455a-fec3-56904b5f581c"
      },
      "execution_count": null,
      "outputs": [
        {
          "output_type": "display_data",
          "data": {
            "text/plain": [
              "<Figure size 1440x360 with 3 Axes>"
            ],
            "image/png": "[encoded data removed]"
          },
          "metadata": {
            "needs_background": "light"
          }
        }
      ]
    },
    {
      "cell_type": "markdown",
      "source": [
        "Dari visualisasi di atas, pelanggan churn cenderung menghabiskan waktu dan biaya yang lebih lama untuk melakukan international call. Pelanggan churn juga melakukan panggilan international yang lebih sedikit dibandingkan pelanggan yang tidak churn. Selain itu, juga ditemukan bentuk persebaran yang sangat mirip antara variabel total intl minutes dan total intl charge. Saya akan memvisualisasikan biaya per menit untuk intl call supaya bisa mengetahui apakah biaya intl call per menit memiliki kemiripan satu sama lain."
      ],
      "metadata": {
        "id": "LQ57qU713_UY"
      }
    },
    {
      "cell_type": "code",
      "source": [
        "intlcharge_per_minutes = df_train['total_intl_charge']/df_train['total_intl_minutes']\n",
        "fig, ax = plt.subplots(figsize=(8,5))\n",
        "sns.histplot(intlcharge_per_minutes, color=\"#b100cd\", ax=ax)\n",
        "ax.set_title(\"Persebaran International Charge per Minutes\", fontsize=13, pad=20)\n",
        "ax.set_xlabel(\"International Charge per Minutes\")\n",
        "plt.show()"
      ],
      "metadata": {
        "colab": {
          "base_uri": "https://localhost:8080/",
          "height": 364
        },
        "id": "kl-bWV9kKI5O",
        "outputId": "fefe5feb-162b-4451-9f77-377011f5683f"
      },
      "execution_count": null,
      "outputs": [
        {
          "output_type": "display_data",
          "data": {
            "text/plain": [
              "<Figure size 576x360 with 1 Axes>"
            ],
            "image/png": "[encoded data removed]"
          },
          "metadata": {
            "needs_background": "light"
          }
        }
      ]
    },
    {
      "cell_type": "markdown",
      "source": [
        "Biaya per menit untuk international call cenderung memiliki selisih yang sangat kecil antara satu dengan yang lain. Oleh karena itu, saya cukup menggunakan variabel total intl charge dan tidak menggunakan variabel total intl minutes.\n",
        "\n",
        "Dari keempat jenis call, biaya per menit untuk international call paling mahal sedangkan night call adalah yang paling murah."
      ],
      "metadata": {
        "id": "2Y-q1fh-KYPX"
      }
    },
    {
      "cell_type": "markdown",
      "source": [
        "#### EDA 10. Jumlah Customer Service Calls terhadap Churn"
      ],
      "metadata": {
        "id": "GnLKm6H9e5rv"
      }
    },
    {
      "cell_type": "code",
      "source": [
        "fig, ax = plt.subplots()\n",
        "sns.boxplot(data=df_train, x=\"churn\", y=\"number_customer_service_calls\", ax=ax, palette=[\"#b100cd\",\"#ff8303\"])\n",
        "ax.set_title(\"Persebaran Jumlah Customer Service Calls\", fontsize=13, pad=15)\n",
        "ax.set_xlabel(\"Churn\", fontsize=10)\n",
        "ax.set_ylabel(\"Jumlah Customer Service Calls\", fontsize=10)\n",
        "plt.show()"
      ],
      "metadata": {
        "colab": {
          "base_uri": "https://localhost:8080/",
          "height": 304
        },
        "id": "bRpj2eHueyey",
        "outputId": "10002c43-5c3d-4b6d-bd21-d2e1615ee5e5"
      },
      "execution_count": null,
      "outputs": [
        {
          "output_type": "display_data",
          "data": {
            "text/plain": [
              "<Figure size 432x288 with 1 Axes>"
            ],
            "image/png": "[encoded data removed]"
          },
          "metadata": {
            "needs_background": "light"
          }
        }
      ]
    },
    {
      "cell_type": "code",
      "source": [
        "fig, ax = plt.subplots()\n",
        "sns.kdeplot(data=df_train, hue=\"churn\", x=\"number_customer_service_calls\", fill=True, ax=ax, palette=[\"#b100cd\",\"#ff8303\"])\n",
        "ax.set_title(\"Persebaran Jumlah Customer Service Calls\", fontsize=13, pad=15)\n",
        "ax.set_xlabel(\"Jumlah Customer Service Calls\", fontsize=10)\n",
        "plt.show()"
      ],
      "metadata": {
        "colab": {
          "base_uri": "https://localhost:8080/",
          "height": 304
        },
        "id": "_6AjtuXlepiG",
        "outputId": "98726723-5d28-41bc-812c-3dab84256ebe"
      },
      "execution_count": null,
      "outputs": [
        {
          "output_type": "display_data",
          "data": {
            "text/plain": [
              "<Figure size 432x288 with 1 Axes>"
            ],
            "image/png": "[encoded data removed]"
          },
          "metadata": {
            "needs_background": "light"
          }
        }
      ]
    },
    {
      "cell_type": "markdown",
      "source": [
        "Customer churn cenderung melakukan service call lebih banyak dibandingkan pelanggan yang tidak churn."
      ],
      "metadata": {
        "id": "0PSbqegi4_Jl"
      }
    },
    {
      "cell_type": "markdown",
      "source": [
        "### EDA Conclusion:\n",
        "\n",
        "Setelah melakukan tahapan EDA, diperoleh beberapa poin kesimpulan sebagai berikut:\n",
        "1. Tidak terdapat missing value pada data train maupun test.\n",
        "2. Dataset tidak seimbang, di mana perbandingan label churn dengan no churn adalah sekitar 1:7. Diperlukan tahapan upsampling atau downsampling untuk mengatasi ketidakseimbangan data.\n",
        "3. Pelanggan churn paling banyak ditemukan pada state NJ (26) dan kode area 415 (287).\n",
        "4. Banyak pelanggan churn yang tidak menggunakan international plan maupun voice mail plan.\n",
        "5. Pelanggan churn yang menggunakan voice mail cenderung mengirimkan voice mail lebih banyak daripada pelanggan no churn yang juga menggunakan voice mail.\n",
        "6. Sebaran total charge pelanggan churn lebih tinggi pada semua situasi (day, eve, night, intl) dibandingkan pelanggan yang tidak churn.\n",
        "7. Sebaran total calls relatif sama pada semua kondisi, kecuali pada international call di mana totaol calls pelanggan churn jauh lebih rendah jika dibandingkan pelanggan yang tidak churn.\n",
        "8. Sebaran total menit memiliki kemiripan dengan sebaran biaya untuk masing-masing kondisi yakni day, eve, night, dan international. Alangkah lebih baik jika cukup menggunakan salah satu variabel dari total menit atau total biaya.\n",
        "9. Terdapat variabel bertipe kategorikal yang perlu diubah menjadi numerik seperti international plan, voice message plan, churn, kode area dan state.\n",
        "10. Masih terdapat outlier pada semua variabel bertipe numerikal.\n",
        "11. Sebaran total menit memiliki kemiripan dengan sebaran biaya untuk masing-masing kondisi yakni day, eve, night, dan international. Alangkah lebih baik jika cukup menggunakan salah satu variabel dari total menit atau total biaya.\n",
        "12. Customer yang beralih atau churn cenderung melakukan service call lebih banyak dibandingkan pelanggan yang tidak churn.\n",
        "\n"
      ],
      "metadata": {
        "id": "2zCBTf3J6asQ"
      }
    },
    {
      "cell_type": "markdown",
      "source": [
        "## Step 3: Data Preprocessing 💻\n",
        "\n",
        "Berikut adalah tahapan selanjutnya akan dilakukan berdasarkan hasil analisis saya pada tahapan EDA:\n",
        "\n",
        "1. Membuat variabel baru bernama total_all_call dan total_all_charge (Feature Encoding)\n",
        "2. Melakukan drop kolom total minutes untuk day, eve, night, dan international call.\n",
        "3. Melakukan encoding untuk data kategorikal, khususnya variabel international plan, voice message plan, churn, kode area dan state.\n",
        "4. Melakukan scaling data numerikal, khususnya variabel di bawah ini  dikarenakan terdapat outlier:\n",
        "  - account_length\n",
        "  - number_vmail_messages\n",
        "  - total_day_calls\n",
        "  - total_day_charge\n",
        "  - total_eve_calls\n",
        "  - total_eve_charge\n",
        "  - total_night_calls\n",
        "  - total_night_charge\n",
        "  - total_intl_calls\n",
        "  - total_intl_charge\n",
        "  - number_customer_service_calls\n",
        "\n",
        "  Saya akan menggunakan metode Robust Scaler dikarenakan metode ini cocok digunakan untuk melakukan perubahan skala pada data yang memiliki outlier.\n"
      ],
      "metadata": {
        "id": "7Wr6Hrp4gq80"
      }
    },
    {
      "cell_type": "markdown",
      "source": [
        "#### 1. Feature Encoding\n",
        "\n",
        "Saya akan membuat dua buah variabel berupa total_all_call, dan total_all_charge. Total all call merupakan akumulasi call dari semua kondisi, yakni day, eve, night dan international. Di sisi lain, total all charge merupakan akumulasi biaya dari keempat kondisi tersebut. Saya juga akan memvisualisasikan sebaran kedua variabel tersebut."
      ],
      "metadata": {
        "id": "8nprktWg7Ywt"
      }
    },
    {
      "cell_type": "code",
      "source": [
        "df_train['total_all_calls'] = df_train['total_day_calls'] + df_train['total_eve_calls'] + df_train['total_night_calls'] + df_train['total_intl_calls']\n",
        "df_train['total_all_charge'] = df_train['total_day_charge'] + df_train['total_eve_charge'] + df_train['total_night_charge'] + df_train['total_intl_charge']"
      ],
      "metadata": {
        "id": "4x46J8yFw0Ie"
      },
      "execution_count": null,
      "outputs": []
    },
    {
      "cell_type": "code",
      "source": [
        "fig, ax = plt.subplots()\n",
        "sns.boxplot(data=df_train, x=\"churn\", y=\"total_all_calls\", ax=ax, palette=[\"#b100cd\",\"#ff8303\"])\n",
        "ax.set_title(\"Persebaran Total All Calls\", fontsize=13, pad=15)\n",
        "ax.set_xlabel(\"Churn\", fontsize=10)\n",
        "ax.set_ylabel(\"Total All Calls\", fontsize=10)\n",
        "plt.show()"
      ],
      "metadata": {
        "id": "qch0KUbt0i8q",
        "colab": {
          "base_uri": "https://localhost:8080/",
          "height": 304
        },
        "outputId": "0ac1d2c5-320a-45c4-c6d7-fe393324b72b"
      },
      "execution_count": null,
      "outputs": [
        {
          "output_type": "display_data",
          "data": {
            "text/plain": [
              "<Figure size 432x288 with 1 Axes>"
            ],
            "image/png": "[encoded data removed]"
          },
          "metadata": {
            "needs_background": "light"
          }
        }
      ]
    },
    {
      "cell_type": "code",
      "source": [
        "fig, ax = plt.subplots()\n",
        "sns.boxplot(data=df_train, x=\"churn\", y=\"total_all_charge\", ax=ax, palette=[\"#b100cd\",\"#ff8303\"])\n",
        "ax.set_title(\"Persebaran Total All Charge\", fontsize=13, pad=15)\n",
        "ax.set_xlabel(\"Churn\", fontsize=10)\n",
        "ax.set_ylabel(\"Total All Charge\", fontsize=10)\n",
        "plt.show()"
      ],
      "metadata": {
        "id": "RB-fRL520qCj",
        "colab": {
          "base_uri": "https://localhost:8080/",
          "height": 304
        },
        "outputId": "8233213d-b991-441b-d1b6-7b3180cf0edf"
      },
      "execution_count": null,
      "outputs": [
        {
          "output_type": "display_data",
          "data": {
            "text/plain": [
              "<Figure size 432x288 with 1 Axes>"
            ],
            "image/png": "[encoded data removed]"
          },
          "metadata": {
            "needs_background": "light"
          }
        }
      ]
    },
    {
      "cell_type": "markdown",
      "source": [
        "Dari visualisasi di atas, sebaran total all charge pada pelanggan churn jauh kebih tinggi dibandingkan pelanggan yang tidak churn."
      ],
      "metadata": {
        "id": "nutqbXCjsAxG"
      }
    },
    {
      "cell_type": "markdown",
      "source": [
        "#### 2. Drop Kolom\n",
        "Saya akan melakukan drop kolom total menit untuk keempat kondisi dikarenakan bentuk sebaran sangat mirip dengan sebaran total biayanya. Hal tersebut telah dibuktikan pada tahapan sebelumnya."
      ],
      "metadata": {
        "id": "00eiBhBG7Mcw"
      }
    },
    {
      "cell_type": "code",
      "source": [
        "#kita pisahkan terlebih dahulu variabel independen (X) dengan variabel dependen (y/label churn)\n",
        "X = df_train.copy().drop('churn', axis=1)\n",
        "y = df_train.copy()['churn']"
      ],
      "metadata": {
        "id": "WONU0bgqIehN"
      },
      "execution_count": null,
      "outputs": []
    },
    {
      "cell_type": "code",
      "source": [
        "def drop_cols(data):\n",
        "  df_drop = data.copy().drop(['total_day_minutes','total_eve_minutes','total_night_minutes', 'total_intl_minutes'],axis=1)\n",
        "  return df_drop"
      ],
      "metadata": {
        "id": "aK8hMouT_El3"
      },
      "execution_count": null,
      "outputs": []
    },
    {
      "cell_type": "code",
      "source": [
        "X_drop = drop_cols(X)\n",
        "X_drop.head()"
      ],
      "metadata": {
        "id": "0NTVjDDpgtt1",
        "colab": {
          "base_uri": "https://localhost:8080/",
          "height": 241
        },
        "outputId": "bc0890bf-1ad6-4970-ac9a-465c4a6819ea"
      },
      "execution_count": null,
      "outputs": [
        {
          "output_type": "execute_result",
          "data": {
            "text/plain": [
              "  state  account_length      area_code international_plan voice_mail_plan  \\\n",
              "0    OH             107  area_code_415                 no             yes   \n",
              "1    NJ             137  area_code_415                 no              no   \n",
              "2    OH              84  area_code_408                yes              no   \n",
              "3    OK              75  area_code_415                yes              no   \n",
              "4    MA             121  area_code_510                 no             yes   \n",
              "\n",
              "   number_vmail_messages  total_day_calls  total_day_charge  total_eve_calls  \\\n",
              "0                     26              123             27.47              103   \n",
              "1                      0              114             41.38              110   \n",
              "2                      0               71             50.90               88   \n",
              "3                      0              113             28.34              122   \n",
              "4                     24               88             37.09              108   \n",
              "\n",
              "   total_eve_charge  total_night_calls  total_night_charge  total_intl_calls  \\\n",
              "0             16.62                103               11.45                 3   \n",
              "1             10.30                104                7.32                 5   \n",
              "2              5.26                 89                8.86                 7   \n",
              "3             12.61                121                8.41                 3   \n",
              "4             29.62                118                9.57                 7   \n",
              "\n",
              "   total_intl_charge  number_customer_service_calls  total_all_calls  \\\n",
              "0               3.70                              1              332   \n",
              "1               3.29                              0              333   \n",
              "2               1.78                              2              255   \n",
              "3               2.73                              3              359   \n",
              "4               2.03                              3              321   \n",
              "\n",
              "   total_all_charge  \n",
              "0             59.24  \n",
              "1             62.29  \n",
              "2             66.80  \n",
              "3             52.09  \n",
              "4             78.31  "
            ],
            "text/html": [
              "\n",
              "  <div id=\"df-bdd7762e-dc98-4200-a1e8-aa9b52b79780\">\n",
              "    <div class=\"colab-df-container\">\n",
              "      <div>\n",
              "<style scoped>\n",
              "    .dataframe tbody tr th:only-of-type {\n",
              "        vertical-align: middle;\n",
              "    }\n",
              "\n",
              "    .dataframe tbody tr th {\n",
              "        vertical-align: top;\n",
              "    }\n",
              "\n",
              "    .dataframe thead th {\n",
              "        text-align: right;\n",
              "    }\n",
              "</style>\n",
              "<table border=\"1\" class=\"dataframe\">\n",
              "  <thead>\n",
              "    <tr style=\"text-align: right;\">\n",
              "      <th></th>\n",
              "      <th>state</th>\n",
              "      <th>account_length</th>\n",
              "      <th>area_code</th>\n",
              "      <th>international_plan</th>\n",
              "      <th>voice_mail_plan</th>\n",
              "      <th>number_vmail_messages</th>\n",
              "      <th>total_day_calls</th>\n",
              "      <th>total_day_charge</th>\n",
              "      <th>total_eve_calls</th>\n",
              "      <th>total_eve_charge</th>\n",
              "      <th>total_night_calls</th>\n",
              "      <th>total_night_charge</th>\n",
              "      <th>total_intl_calls</th>\n",
              "      <th>total_intl_charge</th>\n",
              "      <th>number_customer_service_calls</th>\n",
              "      <th>total_all_calls</th>\n",
              "      <th>total_all_charge</th>\n",
              "    </tr>\n",
              "  </thead>\n",
              "  <tbody>\n",
              "    <tr>\n",
              "      <th>0</th>\n",
              "      <td>OH</td>\n",
              "      <td>107</td>\n",
              "      <td>area_code_415</td>\n",
              "      <td>no</td>\n",
              "      <td>yes</td>\n",
              "      <td>26</td>\n",
              "      <td>123</td>\n",
              "      <td>27.47</td>\n",
              "      <td>103</td>\n",
              "      <td>16.62</td>\n",
              "      <td>103</td>\n",
              "      <td>11.45</td>\n",
              "      <td>3</td>\n",
              "      <td>3.70</td>\n",
              "      <td>1</td>\n",
              "      <td>332</td>\n",
              "      <td>59.24</td>\n",
              "    </tr>\n",
              "    <tr>\n",
              "      <th>1</th>\n",
              "      <td>NJ</td>\n",
              "      <td>137</td>\n",
              "      <td>area_code_415</td>\n",
              "      <td>no</td>\n",
              "      <td>no</td>\n",
              "      <td>0</td>\n",
              "      <td>114</td>\n",
              "      <td>41.38</td>\n",
              "      <td>110</td>\n",
              "      <td>10.30</td>\n",
              "      <td>104</td>\n",
              "      <td>7.32</td>\n",
              "      <td>5</td>\n",
              "      <td>3.29</td>\n",
              "      <td>0</td>\n",
              "      <td>333</td>\n",
              "      <td>62.29</td>\n",
              "    </tr>\n",
              "    <tr>\n",
              "      <th>2</th>\n",
              "      <td>OH</td>\n",
              "      <td>84</td>\n",
              "      <td>area_code_408</td>\n",
              "      <td>yes</td>\n",
              "      <td>no</td>\n",
              "      <td>0</td>\n",
              "      <td>71</td>\n",
              "      <td>50.90</td>\n",
              "      <td>88</td>\n",
              "      <td>5.26</td>\n",
              "      <td>89</td>\n",
              "      <td>8.86</td>\n",
              "      <td>7</td>\n",
              "      <td>1.78</td>\n",
              "      <td>2</td>\n",
              "      <td>255</td>\n",
              "      <td>66.80</td>\n",
              "    </tr>\n",
              "    <tr>\n",
              "      <th>3</th>\n",
              "      <td>OK</td>\n",
              "      <td>75</td>\n",
              "      <td>area_code_415</td>\n",
              "      <td>yes</td>\n",
              "      <td>no</td>\n",
              "      <td>0</td>\n",
              "      <td>113</td>\n",
              "      <td>28.34</td>\n",
              "      <td>122</td>\n",
              "      <td>12.61</td>\n",
              "      <td>121</td>\n",
              "      <td>8.41</td>\n",
              "      <td>3</td>\n",
              "      <td>2.73</td>\n",
              "      <td>3</td>\n",
              "      <td>359</td>\n",
              "      <td>52.09</td>\n",
              "    </tr>\n",
              "    <tr>\n",
              "      <th>4</th>\n",
              "      <td>MA</td>\n",
              "      <td>121</td>\n",
              "      <td>area_code_510</td>\n",
              "      <td>no</td>\n",
              "      <td>yes</td>\n",
              "      <td>24</td>\n",
              "      <td>88</td>\n",
              "      <td>37.09</td>\n",
              "      <td>108</td>\n",
              "      <td>29.62</td>\n",
              "      <td>118</td>\n",
              "      <td>9.57</td>\n",
              "      <td>7</td>\n",
              "      <td>2.03</td>\n",
              "      <td>3</td>\n",
              "      <td>321</td>\n",
              "      <td>78.31</td>\n",
              "    </tr>\n",
              "  </tbody>\n",
              "</table>\n",
              "</div>\n",
              "      <button class=\"colab-df-convert\" onclick=\"convertToInteractive('df-bdd7762e-dc98-4200-a1e8-aa9b52b79780')\"\n",
              "              title=\"Convert this dataframe to an interactive table.\"\n",
              "              style=\"display:none;\">\n",
              "        \n",
              "  <svg xmlns=\"http://www.w3.org/2000/svg\" height=\"24px\"viewBox=\"0 0 24 24\"\n",
              "       width=\"24px\">\n",
              "    <path d=\"M0 0h24v24H0V0z\" fill=\"none\"/>\n",
              "    <path d=\"M18.56 5.44l.94 2.06.94-2.06 2.06-.94-2.06-.94-.94-2.06-.94 2.06-2.06.94zm-11 1L8.5 8.5l.94-2.06 2.06-.94-2.06-.94L8.5 2.5l-.94 2.06-2.06.94zm10 10l.94 2.06.94-2.06 2.06-.94-2.06-.94-.94-2.06-.94 2.06-2.06.94z\"/><path d=\"M17.41 7.96l-1.37-1.37c-.4-.4-.92-.59-1.43-.59-.52 0-1.04.2-1.43.59L10.3 9.45l-7.72 7.72c-.78.78-.78 2.05 0 2.83L4 21.41c.39.39.9.59 1.41.59.51 0 1.02-.2 1.41-.59l7.78-7.78 2.81-2.81c.8-.78.8-2.07 0-2.86zM5.41 20L4 18.59l7.72-7.72 1.47 1.35L5.41 20z\"/>\n",
              "  </svg>\n",
              "      </button>\n",
              "      \n",
              "  <style>\n",
              "    .colab-df-container {\n",
              "      display:flex;\n",
              "      flex-wrap:wrap;\n",
              "      gap: 12px;\n",
              "    }\n",
              "\n",
              "    .colab-df-convert {\n",
              "      background-color: #E8F0FE;\n",
              "      border: none;\n",
              "      border-radius: 50%;\n",
              "      cursor: pointer;\n",
              "      display: none;\n",
              "      fill: #1967D2;\n",
              "      height: 32px;\n",
              "      padding: 0 0 0 0;\n",
              "      width: 32px;\n",
              "    }\n",
              "\n",
              "    .colab-df-convert:hover {\n",
              "      background-color: #E2EBFA;\n",
              "      box-shadow: 0px 1px 2px rgba(60, 64, 67, 0.3), 0px 1px 3px 1px rgba(60, 64, 67, 0.15);\n",
              "      fill: #174EA6;\n",
              "    }\n",
              "\n",
              "    [theme=dark] .colab-df-convert {\n",
              "      background-color: #3B4455;\n",
              "      fill: #D2E3FC;\n",
              "    }\n",
              "\n",
              "    [theme=dark] .colab-df-convert:hover {\n",
              "      background-color: #434B5C;\n",
              "      box-shadow: 0px 1px 3px 1px rgba(0, 0, 0, 0.15);\n",
              "      filter: drop-shadow(0px 1px 2px rgba(0, 0, 0, 0.3));\n",
              "      fill: #FFFFFF;\n",
              "    }\n",
              "  </style>\n",
              "\n",
              "      <script>\n",
              "        const buttonEl =\n",
              "          document.querySelector('#df-bdd7762e-dc98-4200-a1e8-aa9b52b79780 button.colab-df-convert');\n",
              "        buttonEl.style.display =\n",
              "          google.colab.kernel.accessAllowed ? 'block' : 'none';\n",
              "\n",
              "        async function convertToInteractive(key) {\n",
              "          const element = document.querySelector('#df-bdd7762e-dc98-4200-a1e8-aa9b52b79780');\n",
              "          const dataTable =\n",
              "            await google.colab.kernel.invokeFunction('convertToInteractive',\n",
              "                                                     [key], {});\n",
              "          if (!dataTable) return;\n",
              "\n",
              "          const docLinkHtml = 'Like what you see? Visit the ' +\n",
              "            '<a target=\"_blank\" href=https://colab.research.google.com/notebooks/data_table.ipynb>data table notebook</a>'\n",
              "            + ' to learn more about interactive tables.';\n",
              "          element.innerHTML = '';\n",
              "          dataTable['output_type'] = 'display_data';\n",
              "          await google.colab.output.renderOutput(dataTable, element);\n",
              "          const docLink = document.createElement('div');\n",
              "          docLink.innerHTML = docLinkHtml;\n",
              "          element.appendChild(docLink);\n",
              "        }\n",
              "      </script>\n",
              "    </div>\n",
              "  </div>\n",
              "  "
            ]
          },
          "metadata": {},
          "execution_count": 41
        }
      ]
    },
    {
      "cell_type": "markdown",
      "source": [
        "#### 3. Encoding Data Kategorikal\n",
        "Data kategorikal perlu diubah menjadi numerikal dikarenakan terdapat model seperti KNearest Neighbor maupun Logistic Regression yang hanya menerima nilai berupa numerik saja. Untuk variabel yang memiliki nilai berupa yes atau no, saya akan melakukan binary encoding. Di sisi lain untuk variabel kategorikal nominal, saya akan melakukan one hot encoding. Di bawah ini merupakan ilustrasi dari one hot encoding.\n",
        "\n",
        "<br>\n",
        "\n",
        "<img src=\"https://user-images.githubusercontent.com/61647791/196075038-a2985201-df90-4e2c-8673-619dff0cc563.PNG\" />\n",
        "\n",
        "*One Hot Encoding*"
      ],
      "metadata": {
        "id": "I3Oa_lhH7PkZ"
      }
    },
    {
      "cell_type": "code",
      "source": [
        "#encoding binary untuk label atau variabel dependen\n",
        "y_final = y.replace({\"yes\":1,\"no\":0}).astype(\"uint8\")"
      ],
      "metadata": {
        "id": "HmsZND_MrjS2"
      },
      "execution_count": null,
      "outputs": []
    },
    {
      "cell_type": "code",
      "source": [
        "#cat encoding untuk variabel independen\n",
        "\n",
        "def cat_encode(data):\n",
        "  #replace yes no values with binary value\n",
        "  bin_cols = [\"international_plan\", \"voice_mail_plan\"]\n",
        "  data[bin_cols] = data[bin_cols].replace({\"yes\":1,\"no\":0}).astype(\"uint8\")\n",
        "\n",
        "  #encode nominal categorical data\n",
        "  cat_df = data.select_dtypes('object')\n",
        "  num_df = data.select_dtypes(exclude=\"object\")\n",
        "  cat_encode = pd.get_dummies(cat_df)\n",
        "  final_cat_encode = cat_encode.join(num_df)\n",
        "  return final_cat_encode"
      ],
      "metadata": {
        "id": "LsM3AvRR_gU5"
      },
      "execution_count": null,
      "outputs": []
    },
    {
      "cell_type": "code",
      "source": [
        "X_encode = cat_encode(X_drop)\n",
        "X_encode.head()"
      ],
      "metadata": {
        "colab": {
          "base_uri": "https://localhost:8080/",
          "height": 300
        },
        "id": "Fc8ragutszV4",
        "outputId": "8c3bd90f-47ca-4c7c-ed86-1379ac5f1b46"
      },
      "execution_count": null,
      "outputs": [
        {
          "output_type": "execute_result",
          "data": {
            "text/plain": [
              "   state_AK  state_AL  state_AR  state_AZ  state_CA  state_CO  state_CT  \\\n",
              "0         0         0         0         0         0         0         0   \n",
              "1         0         0         0         0         0         0         0   \n",
              "2         0         0         0         0         0         0         0   \n",
              "3         0         0         0         0         0         0         0   \n",
              "4         0         0         0         0         0         0         0   \n",
              "\n",
              "   state_DC  state_DE  state_FL  ...  total_day_charge  total_eve_calls  \\\n",
              "0         0         0         0  ...             27.47              103   \n",
              "1         0         0         0  ...             41.38              110   \n",
              "2         0         0         0  ...             50.90               88   \n",
              "3         0         0         0  ...             28.34              122   \n",
              "4         0         0         0  ...             37.09              108   \n",
              "\n",
              "   total_eve_charge  total_night_calls  total_night_charge  total_intl_calls  \\\n",
              "0             16.62                103               11.45                 3   \n",
              "1             10.30                104                7.32                 5   \n",
              "2              5.26                 89                8.86                 7   \n",
              "3             12.61                121                8.41                 3   \n",
              "4             29.62                118                9.57                 7   \n",
              "\n",
              "   total_intl_charge  number_customer_service_calls  total_all_calls  \\\n",
              "0               3.70                              1              332   \n",
              "1               3.29                              0              333   \n",
              "2               1.78                              2              255   \n",
              "3               2.73                              3              359   \n",
              "4               2.03                              3              321   \n",
              "\n",
              "   total_all_charge  \n",
              "0             59.24  \n",
              "1             62.29  \n",
              "2             66.80  \n",
              "3             52.09  \n",
              "4             78.31  \n",
              "\n",
              "[5 rows x 69 columns]"
            ],
            "text/html": [
              "\n",
              "  <div id=\"df-f34974b1-8458-47d9-b9e9-144bc25a0da6\">\n",
              "    <div class=\"colab-df-container\">\n",
              "      <div>\n",
              "<style scoped>\n",
              "    .dataframe tbody tr th:only-of-type {\n",
              "        vertical-align: middle;\n",
              "    }\n",
              "\n",
              "    .dataframe tbody tr th {\n",
              "        vertical-align: top;\n",
              "    }\n",
              "\n",
              "    .dataframe thead th {\n",
              "        text-align: right;\n",
              "    }\n",
              "</style>\n",
              "<table border=\"1\" class=\"dataframe\">\n",
              "  <thead>\n",
              "    <tr style=\"text-align: right;\">\n",
              "      <th></th>\n",
              "      <th>state_AK</th>\n",
              "      <th>state_AL</th>\n",
              "      <th>state_AR</th>\n",
              "      <th>state_AZ</th>\n",
              "      <th>state_CA</th>\n",
              "      <th>state_CO</th>\n",
              "      <th>state_CT</th>\n",
              "      <th>state_DC</th>\n",
              "      <th>state_DE</th>\n",
              "      <th>state_FL</th>\n",
              "      <th>...</th>\n",
              "      <th>total_day_charge</th>\n",
              "      <th>total_eve_calls</th>\n",
              "      <th>total_eve_charge</th>\n",
              "      <th>total_night_calls</th>\n",
              "      <th>total_night_charge</th>\n",
              "      <th>total_intl_calls</th>\n",
              "      <th>total_intl_charge</th>\n",
              "      <th>number_customer_service_calls</th>\n",
              "      <th>total_all_calls</th>\n",
              "      <th>total_all_charge</th>\n",
              "    </tr>\n",
              "  </thead>\n",
              "  <tbody>\n",
              "    <tr>\n",
              "      <th>0</th>\n",
              "      <td>0</td>\n",
              "      <td>0</td>\n",
              "      <td>0</td>\n",
              "      <td>0</td>\n",
              "      <td>0</td>\n",
              "      <td>0</td>\n",
              "      <td>0</td>\n",
              "      <td>0</td>\n",
              "      <td>0</td>\n",
              "      <td>0</td>\n",
              "      <td>...</td>\n",
              "      <td>27.47</td>\n",
              "      <td>103</td>\n",
              "      <td>16.62</td>\n",
              "      <td>103</td>\n",
              "      <td>11.45</td>\n",
              "      <td>3</td>\n",
              "      <td>3.70</td>\n",
              "      <td>1</td>\n",
              "      <td>332</td>\n",
              "      <td>59.24</td>\n",
              "    </tr>\n",
              "    <tr>\n",
              "      <th>1</th>\n",
              "      <td>0</td>\n",
              "      <td>0</td>\n",
              "      <td>0</td>\n",
              "      <td>0</td>\n",
              "      <td>0</td>\n",
              "      <td>0</td>\n",
              "      <td>0</td>\n",
              "      <td>0</td>\n",
              "      <td>0</td>\n",
              "      <td>0</td>\n",
              "      <td>...</td>\n",
              "      <td>41.38</td>\n",
              "      <td>110</td>\n",
              "      <td>10.30</td>\n",
              "      <td>104</td>\n",
              "      <td>7.32</td>\n",
              "      <td>5</td>\n",
              "      <td>3.29</td>\n",
              "      <td>0</td>\n",
              "      <td>333</td>\n",
              "      <td>62.29</td>\n",
              "    </tr>\n",
              "    <tr>\n",
              "      <th>2</th>\n",
              "      <td>0</td>\n",
              "      <td>0</td>\n",
              "      <td>0</td>\n",
              "      <td>0</td>\n",
              "      <td>0</td>\n",
              "      <td>0</td>\n",
              "      <td>0</td>\n",
              "      <td>0</td>\n",
              "      <td>0</td>\n",
              "      <td>0</td>\n",
              "      <td>...</td>\n",
              "      <td>50.90</td>\n",
              "      <td>88</td>\n",
              "      <td>5.26</td>\n",
              "      <td>89</td>\n",
              "      <td>8.86</td>\n",
              "      <td>7</td>\n",
              "      <td>1.78</td>\n",
              "      <td>2</td>\n",
              "      <td>255</td>\n",
              "      <td>66.80</td>\n",
              "    </tr>\n",
              "    <tr>\n",
              "      <th>3</th>\n",
              "      <td>0</td>\n",
              "      <td>0</td>\n",
              "      <td>0</td>\n",
              "      <td>0</td>\n",
              "      <td>0</td>\n",
              "      <td>0</td>\n",
              "      <td>0</td>\n",
              "      <td>0</td>\n",
              "      <td>0</td>\n",
              "      <td>0</td>\n",
              "      <td>...</td>\n",
              "      <td>28.34</td>\n",
              "      <td>122</td>\n",
              "      <td>12.61</td>\n",
              "      <td>121</td>\n",
              "      <td>8.41</td>\n",
              "      <td>3</td>\n",
              "      <td>2.73</td>\n",
              "      <td>3</td>\n",
              "      <td>359</td>\n",
              "      <td>52.09</td>\n",
              "    </tr>\n",
              "    <tr>\n",
              "      <th>4</th>\n",
              "      <td>0</td>\n",
              "      <td>0</td>\n",
              "      <td>0</td>\n",
              "      <td>0</td>\n",
              "      <td>0</td>\n",
              "      <td>0</td>\n",
              "      <td>0</td>\n",
              "      <td>0</td>\n",
              "      <td>0</td>\n",
              "      <td>0</td>\n",
              "      <td>...</td>\n",
              "      <td>37.09</td>\n",
              "      <td>108</td>\n",
              "      <td>29.62</td>\n",
              "      <td>118</td>\n",
              "      <td>9.57</td>\n",
              "      <td>7</td>\n",
              "      <td>2.03</td>\n",
              "      <td>3</td>\n",
              "      <td>321</td>\n",
              "      <td>78.31</td>\n",
              "    </tr>\n",
              "  </tbody>\n",
              "</table>\n",
              "<p>5 rows × 69 columns</p>\n",
              "</div>\n",
              "      <button class=\"colab-df-convert\" onclick=\"convertToInteractive('df-f34974b1-8458-47d9-b9e9-144bc25a0da6')\"\n",
              "              title=\"Convert this dataframe to an interactive table.\"\n",
              "              style=\"display:none;\">\n",
              "        \n",
              "  <svg xmlns=\"http://www.w3.org/2000/svg\" height=\"24px\"viewBox=\"0 0 24 24\"\n",
              "       width=\"24px\">\n",
              "    <path d=\"M0 0h24v24H0V0z\" fill=\"none\"/>\n",
              "    <path d=\"M18.56 5.44l.94 2.06.94-2.06 2.06-.94-2.06-.94-.94-2.06-.94 2.06-2.06.94zm-11 1L8.5 8.5l.94-2.06 2.06-.94-2.06-.94L8.5 2.5l-.94 2.06-2.06.94zm10 10l.94 2.06.94-2.06 2.06-.94-2.06-.94-.94-2.06-.94 2.06-2.06.94z\"/><path d=\"M17.41 7.96l-1.37-1.37c-.4-.4-.92-.59-1.43-.59-.52 0-1.04.2-1.43.59L10.3 9.45l-7.72 7.72c-.78.78-.78 2.05 0 2.83L4 21.41c.39.39.9.59 1.41.59.51 0 1.02-.2 1.41-.59l7.78-7.78 2.81-2.81c.8-.78.8-2.07 0-2.86zM5.41 20L4 18.59l7.72-7.72 1.47 1.35L5.41 20z\"/>\n",
              "  </svg>\n",
              "      </button>\n",
              "      \n",
              "  <style>\n",
              "    .colab-df-container {\n",
              "      display:flex;\n",
              "      flex-wrap:wrap;\n",
              "      gap: 12px;\n",
              "    }\n",
              "\n",
              "    .colab-df-convert {\n",
              "      background-color: #E8F0FE;\n",
              "      border: none;\n",
              "      border-radius: 50%;\n",
              "      cursor: pointer;\n",
              "      display: none;\n",
              "      fill: #1967D2;\n",
              "      height: 32px;\n",
              "      padding: 0 0 0 0;\n",
              "      width: 32px;\n",
              "    }\n",
              "\n",
              "    .colab-df-convert:hover {\n",
              "      background-color: #E2EBFA;\n",
              "      box-shadow: 0px 1px 2px rgba(60, 64, 67, 0.3), 0px 1px 3px 1px rgba(60, 64, 67, 0.15);\n",
              "      fill: #174EA6;\n",
              "    }\n",
              "\n",
              "    [theme=dark] .colab-df-convert {\n",
              "      background-color: #3B4455;\n",
              "      fill: #D2E3FC;\n",
              "    }\n",
              "\n",
              "    [theme=dark] .colab-df-convert:hover {\n",
              "      background-color: #434B5C;\n",
              "      box-shadow: 0px 1px 3px 1px rgba(0, 0, 0, 0.15);\n",
              "      filter: drop-shadow(0px 1px 2px rgba(0, 0, 0, 0.3));\n",
              "      fill: #FFFFFF;\n",
              "    }\n",
              "  </style>\n",
              "\n",
              "      <script>\n",
              "        const buttonEl =\n",
              "          document.querySelector('#df-f34974b1-8458-47d9-b9e9-144bc25a0da6 button.colab-df-convert');\n",
              "        buttonEl.style.display =\n",
              "          google.colab.kernel.accessAllowed ? 'block' : 'none';\n",
              "\n",
              "        async function convertToInteractive(key) {\n",
              "          const element = document.querySelector('#df-f34974b1-8458-47d9-b9e9-144bc25a0da6');\n",
              "          const dataTable =\n",
              "            await google.colab.kernel.invokeFunction('convertToInteractive',\n",
              "                                                     [key], {});\n",
              "          if (!dataTable) return;\n",
              "\n",
              "          const docLinkHtml = 'Like what you see? Visit the ' +\n",
              "            '<a target=\"_blank\" href=https://colab.research.google.com/notebooks/data_table.ipynb>data table notebook</a>'\n",
              "            + ' to learn more about interactive tables.';\n",
              "          element.innerHTML = '';\n",
              "          dataTable['output_type'] = 'display_data';\n",
              "          await google.colab.output.renderOutput(dataTable, element);\n",
              "          const docLink = document.createElement('div');\n",
              "          docLink.innerHTML = docLinkHtml;\n",
              "          element.appendChild(docLink);\n",
              "        }\n",
              "      </script>\n",
              "    </div>\n",
              "  </div>\n",
              "  "
            ]
          },
          "metadata": {},
          "execution_count": 44
        }
      ]
    },
    {
      "cell_type": "markdown",
      "source": [
        "Dari encoding data kategorikal, jumlah variabel independen bertambah menjadi 69."
      ],
      "metadata": {
        "id": "v82Do0Nmv1DD"
      }
    },
    {
      "cell_type": "markdown",
      "source": [
        "#### 4. Scaling Data Numerikal\n",
        "Scaling merupakan tahapan untuk melakukan perubahan pada data numerikal sehingga memiliki nilai yang berada pada rentang tertentu. Tahapan ini dilakukan karena terdapat algoritma yang melakukan perhitungan jarak atau algoritma yang menggunakan fungsi matematis seperti KNN maupun Logistic Regression. Diharapkan tahapan scaling dapat memudahkan model dalam belajar sehingga bisa mempercepat proses komputasi.\n",
        "\n",
        "Dari beragam teknik scaling yang ada, saya memilih teknik scaling dengan metode Robust Scaler dikarenakan cocok digunakan ketika terdapat outlier pada data numerikal tersebut. Metode ini menghilangkan median dan melakukan scaling berdasarkan jangkauan interkuartil (IQR). Berikut merupakan formula dari Robust Scaler:\n",
        "\n",
        "$\\huge {xi}'=\\frac{xi-Q1(x)}{Q3(x)-Q1(x)} $\n",
        "\n",
        "<br>\n",
        "Untuk lebih jelas dapat dilihat pada <a href=\"https://scikit-learn.org/stable/modules/generated/sklearn.preprocessing.RobustScaler.html\">link ini</a>.\n",
        "\n",
        "\n"
      ],
      "metadata": {
        "id": "S4rlrRUi7U_Z"
      }
    },
    {
      "cell_type": "code",
      "source": [
        "def scaler(data):\n",
        "  num_df = data.select_dtypes(include=[float, int])\n",
        "  cat_df = data.select_dtypes(exclude=[float, int])\n",
        "  rs = RobustScaler()\n",
        "  scl = rs.fit_transform(num_df)\n",
        "  scl_df = pd.DataFrame(scl, columns=num_df.columns, index=num_df.index)\n",
        "  final_scaled = cat_df.join(scl_df)\n",
        "  return final_scaled\n"
      ],
      "metadata": {
        "id": "5JvWpJUd7dcZ"
      },
      "execution_count": null,
      "outputs": []
    },
    {
      "cell_type": "code",
      "source": [
        "X_final = scaler(X_encode)\n",
        "X_final.head()"
      ],
      "metadata": {
        "colab": {
          "base_uri": "https://localhost:8080/",
          "height": 300
        },
        "id": "_oXGE_20KBf_",
        "outputId": "968726fe-f2ba-4990-9413-1b362917b985"
      },
      "execution_count": null,
      "outputs": [
        {
          "output_type": "execute_result",
          "data": {
            "text/plain": [
              "   state_AK  state_AL  state_AR  state_AZ  state_CA  state_CO  state_CT  \\\n",
              "0         0         0         0         0         0         0         0   \n",
              "1         0         0         0         0         0         0         0   \n",
              "2         0         0         0         0         0         0         0   \n",
              "3         0         0         0         0         0         0         0   \n",
              "4         0         0         0         0         0         0         0   \n",
              "\n",
              "   state_DC  state_DE  state_FL  ...  total_day_charge  total_eve_calls  \\\n",
              "0         0         0         0  ...         -0.259184         0.111111   \n",
              "1         0         0         0  ...          0.863948         0.370370   \n",
              "2         0         0         0  ...          1.632620        -0.444444   \n",
              "3         0         0         0  ...         -0.188938         0.814815   \n",
              "4         0         0         0  ...          0.517562         0.296296   \n",
              "\n",
              "   total_eve_charge  total_night_calls  total_night_charge  total_intl_calls  \\\n",
              "0         -0.076323           0.111111            0.800000         -0.333333   \n",
              "1         -1.172593           0.148148           -0.559671          0.333333   \n",
              "2         -2.046834          -0.407407           -0.052675          1.000000   \n",
              "3         -0.771899           0.777778           -0.200823         -0.333333   \n",
              "4          2.178664           0.666667            0.181070          1.000000   \n",
              "\n",
              "   total_intl_charge  number_customer_service_calls  total_all_calls  \\\n",
              "0           0.978723                            0.0         0.586957   \n",
              "1           0.542553                           -1.0         0.608696   \n",
              "2          -1.063830                            1.0        -1.086957   \n",
              "3          -0.053191                            2.0         1.173913   \n",
              "4          -0.797872                            2.0         0.347826   \n",
              "\n",
              "   total_all_charge  \n",
              "0         -0.018388  \n",
              "1          0.201550  \n",
              "2          0.526771  \n",
              "3         -0.533982  \n",
              "4          1.356769  \n",
              "\n",
              "[5 rows x 69 columns]"
            ],
            "text/html": [
              "\n",
              "  <div id=\"df-80f3fc38-7fa4-49d2-b4fd-3db8ccff901e\">\n",
              "    <div class=\"colab-df-container\">\n",
              "      <div>\n",
              "<style scoped>\n",
              "    .dataframe tbody tr th:only-of-type {\n",
              "        vertical-align: middle;\n",
              "    }\n",
              "\n",
              "    .dataframe tbody tr th {\n",
              "        vertical-align: top;\n",
              "    }\n",
              "\n",
              "    .dataframe thead th {\n",
              "        text-align: right;\n",
              "    }\n",
              "</style>\n",
              "<table border=\"1\" class=\"dataframe\">\n",
              "  <thead>\n",
              "    <tr style=\"text-align: right;\">\n",
              "      <th></th>\n",
              "      <th>state_AK</th>\n",
              "      <th>state_AL</th>\n",
              "      <th>state_AR</th>\n",
              "      <th>state_AZ</th>\n",
              "      <th>state_CA</th>\n",
              "      <th>state_CO</th>\n",
              "      <th>state_CT</th>\n",
              "      <th>state_DC</th>\n",
              "      <th>state_DE</th>\n",
              "      <th>state_FL</th>\n",
              "      <th>...</th>\n",
              "      <th>total_day_charge</th>\n",
              "      <th>total_eve_calls</th>\n",
              "      <th>total_eve_charge</th>\n",
              "      <th>total_night_calls</th>\n",
              "      <th>total_night_charge</th>\n",
              "      <th>total_intl_calls</th>\n",
              "      <th>total_intl_charge</th>\n",
              "      <th>number_customer_service_calls</th>\n",
              "      <th>total_all_calls</th>\n",
              "      <th>total_all_charge</th>\n",
              "    </tr>\n",
              "  </thead>\n",
              "  <tbody>\n",
              "    <tr>\n",
              "      <th>0</th>\n",
              "      <td>0</td>\n",
              "      <td>0</td>\n",
              "      <td>0</td>\n",
              "      <td>0</td>\n",
              "      <td>0</td>\n",
              "      <td>0</td>\n",
              "      <td>0</td>\n",
              "      <td>0</td>\n",
              "      <td>0</td>\n",
              "      <td>0</td>\n",
              "      <td>...</td>\n",
              "      <td>-0.259184</td>\n",
              "      <td>0.111111</td>\n",
              "      <td>-0.076323</td>\n",
              "      <td>0.111111</td>\n",
              "      <td>0.800000</td>\n",
              "      <td>-0.333333</td>\n",
              "      <td>0.978723</td>\n",
              "      <td>0.0</td>\n",
              "      <td>0.586957</td>\n",
              "      <td>-0.018388</td>\n",
              "    </tr>\n",
              "    <tr>\n",
              "      <th>1</th>\n",
              "      <td>0</td>\n",
              "      <td>0</td>\n",
              "      <td>0</td>\n",
              "      <td>0</td>\n",
              "      <td>0</td>\n",
              "      <td>0</td>\n",
              "      <td>0</td>\n",
              "      <td>0</td>\n",
              "      <td>0</td>\n",
              "      <td>0</td>\n",
              "      <td>...</td>\n",
              "      <td>0.863948</td>\n",
              "      <td>0.370370</td>\n",
              "      <td>-1.172593</td>\n",
              "      <td>0.148148</td>\n",
              "      <td>-0.559671</td>\n",
              "      <td>0.333333</td>\n",
              "      <td>0.542553</td>\n",
              "      <td>-1.0</td>\n",
              "      <td>0.608696</td>\n",
              "      <td>0.201550</td>\n",
              "    </tr>\n",
              "    <tr>\n",
              "      <th>2</th>\n",
              "      <td>0</td>\n",
              "      <td>0</td>\n",
              "      <td>0</td>\n",
              "      <td>0</td>\n",
              "      <td>0</td>\n",
              "      <td>0</td>\n",
              "      <td>0</td>\n",
              "      <td>0</td>\n",
              "      <td>0</td>\n",
              "      <td>0</td>\n",
              "      <td>...</td>\n",
              "      <td>1.632620</td>\n",
              "      <td>-0.444444</td>\n",
              "      <td>-2.046834</td>\n",
              "      <td>-0.407407</td>\n",
              "      <td>-0.052675</td>\n",
              "      <td>1.000000</td>\n",
              "      <td>-1.063830</td>\n",
              "      <td>1.0</td>\n",
              "      <td>-1.086957</td>\n",
              "      <td>0.526771</td>\n",
              "    </tr>\n",
              "    <tr>\n",
              "      <th>3</th>\n",
              "      <td>0</td>\n",
              "      <td>0</td>\n",
              "      <td>0</td>\n",
              "      <td>0</td>\n",
              "      <td>0</td>\n",
              "      <td>0</td>\n",
              "      <td>0</td>\n",
              "      <td>0</td>\n",
              "      <td>0</td>\n",
              "      <td>0</td>\n",
              "      <td>...</td>\n",
              "      <td>-0.188938</td>\n",
              "      <td>0.814815</td>\n",
              "      <td>-0.771899</td>\n",
              "      <td>0.777778</td>\n",
              "      <td>-0.200823</td>\n",
              "      <td>-0.333333</td>\n",
              "      <td>-0.053191</td>\n",
              "      <td>2.0</td>\n",
              "      <td>1.173913</td>\n",
              "      <td>-0.533982</td>\n",
              "    </tr>\n",
              "    <tr>\n",
              "      <th>4</th>\n",
              "      <td>0</td>\n",
              "      <td>0</td>\n",
              "      <td>0</td>\n",
              "      <td>0</td>\n",
              "      <td>0</td>\n",
              "      <td>0</td>\n",
              "      <td>0</td>\n",
              "      <td>0</td>\n",
              "      <td>0</td>\n",
              "      <td>0</td>\n",
              "      <td>...</td>\n",
              "      <td>0.517562</td>\n",
              "      <td>0.296296</td>\n",
              "      <td>2.178664</td>\n",
              "      <td>0.666667</td>\n",
              "      <td>0.181070</td>\n",
              "      <td>1.000000</td>\n",
              "      <td>-0.797872</td>\n",
              "      <td>2.0</td>\n",
              "      <td>0.347826</td>\n",
              "      <td>1.356769</td>\n",
              "    </tr>\n",
              "  </tbody>\n",
              "</table>\n",
              "<p>5 rows × 69 columns</p>\n",
              "</div>\n",
              "      <button class=\"colab-df-convert\" onclick=\"convertToInteractive('df-80f3fc38-7fa4-49d2-b4fd-3db8ccff901e')\"\n",
              "              title=\"Convert this dataframe to an interactive table.\"\n",
              "              style=\"display:none;\">\n",
              "        \n",
              "  <svg xmlns=\"http://www.w3.org/2000/svg\" height=\"24px\"viewBox=\"0 0 24 24\"\n",
              "       width=\"24px\">\n",
              "    <path d=\"M0 0h24v24H0V0z\" fill=\"none\"/>\n",
              "    <path d=\"M18.56 5.44l.94 2.06.94-2.06 2.06-.94-2.06-.94-.94-2.06-.94 2.06-2.06.94zm-11 1L8.5 8.5l.94-2.06 2.06-.94-2.06-.94L8.5 2.5l-.94 2.06-2.06.94zm10 10l.94 2.06.94-2.06 2.06-.94-2.06-.94-.94-2.06-.94 2.06-2.06.94z\"/><path d=\"M17.41 7.96l-1.37-1.37c-.4-.4-.92-.59-1.43-.59-.52 0-1.04.2-1.43.59L10.3 9.45l-7.72 7.72c-.78.78-.78 2.05 0 2.83L4 21.41c.39.39.9.59 1.41.59.51 0 1.02-.2 1.41-.59l7.78-7.78 2.81-2.81c.8-.78.8-2.07 0-2.86zM5.41 20L4 18.59l7.72-7.72 1.47 1.35L5.41 20z\"/>\n",
              "  </svg>\n",
              "      </button>\n",
              "      \n",
              "  <style>\n",
              "    .colab-df-container {\n",
              "      display:flex;\n",
              "      flex-wrap:wrap;\n",
              "      gap: 12px;\n",
              "    }\n",
              "\n",
              "    .colab-df-convert {\n",
              "      background-color: #E8F0FE;\n",
              "      border: none;\n",
              "      border-radius: 50%;\n",
              "      cursor: pointer;\n",
              "      display: none;\n",
              "      fill: #1967D2;\n",
              "      height: 32px;\n",
              "      padding: 0 0 0 0;\n",
              "      width: 32px;\n",
              "    }\n",
              "\n",
              "    .colab-df-convert:hover {\n",
              "      background-color: #E2EBFA;\n",
              "      box-shadow: 0px 1px 2px rgba(60, 64, 67, 0.3), 0px 1px 3px 1px rgba(60, 64, 67, 0.15);\n",
              "      fill: #174EA6;\n",
              "    }\n",
              "\n",
              "    [theme=dark] .colab-df-convert {\n",
              "      background-color: #3B4455;\n",
              "      fill: #D2E3FC;\n",
              "    }\n",
              "\n",
              "    [theme=dark] .colab-df-convert:hover {\n",
              "      background-color: #434B5C;\n",
              "      box-shadow: 0px 1px 3px 1px rgba(0, 0, 0, 0.15);\n",
              "      filter: drop-shadow(0px 1px 2px rgba(0, 0, 0, 0.3));\n",
              "      fill: #FFFFFF;\n",
              "    }\n",
              "  </style>\n",
              "\n",
              "      <script>\n",
              "        const buttonEl =\n",
              "          document.querySelector('#df-80f3fc38-7fa4-49d2-b4fd-3db8ccff901e button.colab-df-convert');\n",
              "        buttonEl.style.display =\n",
              "          google.colab.kernel.accessAllowed ? 'block' : 'none';\n",
              "\n",
              "        async function convertToInteractive(key) {\n",
              "          const element = document.querySelector('#df-80f3fc38-7fa4-49d2-b4fd-3db8ccff901e');\n",
              "          const dataTable =\n",
              "            await google.colab.kernel.invokeFunction('convertToInteractive',\n",
              "                                                     [key], {});\n",
              "          if (!dataTable) return;\n",
              "\n",
              "          const docLinkHtml = 'Like what you see? Visit the ' +\n",
              "            '<a target=\"_blank\" href=https://colab.research.google.com/notebooks/data_table.ipynb>data table notebook</a>'\n",
              "            + ' to learn more about interactive tables.';\n",
              "          element.innerHTML = '';\n",
              "          dataTable['output_type'] = 'display_data';\n",
              "          await google.colab.output.renderOutput(dataTable, element);\n",
              "          const docLink = document.createElement('div');\n",
              "          docLink.innerHTML = docLinkHtml;\n",
              "          element.appendChild(docLink);\n",
              "        }\n",
              "      </script>\n",
              "    </div>\n",
              "  </div>\n",
              "  "
            ]
          },
          "metadata": {},
          "execution_count": 46
        }
      ]
    },
    {
      "cell_type": "markdown",
      "source": [
        "## Step 4: Pemodelan ML 🤖\n",
        "\n",
        "Saya akan menggunakan Stratified KFold untuk memilih algoritma mana yang paling cocok. Metode ini merupakan pengembangan dari KFold di mana rasio label pada setiap fold akan tetap sama.\n",
        "\n",
        "<img src=\"https://www.analyseup.com/img/python-machine-learning/stratified-kfold/stratified-kfold-example.png\"/>\n",
        "\n",
        " Selanjutnya saya akan menggunakan algoritma terbaik untuk membuat model yang selanjutnya digunakan untuk memprediksi data test. Berikut adalah algoritma yang akan saya gunakan:\n",
        "\n",
        "1. K Nearest Neighbor (KNN)\n",
        "2. Decision Tree\n",
        "3. Logistic Regression\n",
        "\n",
        "Terdapat beberapa metrik yang akan saya gunakan untuk memilih algoritma yang paling cocok.\n",
        "1. Akurasi\n",
        "\n",
        "  Mempertimbangkan true postif dibandingkan true negatif. Lebih baik memprediksi pengguna churn tetapi aktualnya tidak churn daripada sebaliknya.\n",
        "\n",
        "  <img src=\"https://www.mydatamodels.com/wp-content/uploads/2020/10/2.-Accuracy-formula-machine-learning-algorithms.png\"/>\n",
        "\n",
        "2. Recall\n",
        "\n",
        "  Mempertimbangkan true postif dibandingkan true negatif. Lebih baik memprediksi pengguna churn tetapi aktualnya tidak churn daripada sebaliknya.\n",
        "<img src=\"https://blog.roboflow.com/content/images/size/w1000/2022/03/recall_formula.png\" />\n",
        "\n",
        "3. AUC Score\n",
        "\n",
        "  Semakin tinggi skor AUC, maka model dapat membedakan kedua label dengan lebih baik.\n",
        "  <img src=\"https://www.researchgate.net/publication/343846811/figure/fig3/AS:928238398369793@1598320688275/Receiver-operating-characteristic-ROC-curve-and-threshold-determinator-65-The-area.png\" />\n",
        "\n",
        "4. F1-Score\n",
        "\n",
        " Menilai seberapa banyak data yang hasil prediksinya sesuai dengan aktual.\n",
        "\n",
        "<img src=\"https://miro.medium.com/max/1400/1*5_ZAlFhlCk8llhnYWD5PXw.png\"/>\n",
        "\n",
        "Tahapan upsampling dan downsampling dilakukan selama pemilihan algoritma maupun pelatihan model. Berikut adalah metode yang saya gunakan.\n",
        "1. SMOTENC\n",
        "\n",
        " Metode upsampling SMOTE untuk data numerikal dan kategorikal.\n",
        "\n",
        "2. Tomek Links\n",
        "\n",
        " Metode undersampling dengan mengurangi tomek links yang merupakan pasangan observasi dari dua label yang berbeda di mana keduanya memiliki kemiripan nilai atau tetangga terdekat.\n",
        "\n",
        "\n"
      ],
      "metadata": {
        "id": "Pt7mJyIyh7UZ"
      }
    },
    {
      "cell_type": "code",
      "source": [
        "models = [  KNeighborsClassifier()\n",
        "          , LogisticRegression(random_state=123, solver='liblinear')\n",
        "          , DecisionTreeClassifier(random_state=123)\n",
        "         ]\n",
        "\n",
        "X_cat_mask = [True if X_final[i].dtype == 'uint8' else False for i in X_final.columns] # kolom mana saja yg kategorikal\n",
        "n_folds = 10\n",
        "kf = StratifiedKFold(n_splits=n_folds)\n",
        "res = {}\n",
        "for i, (train_index, test_index) in enumerate(kf.split(X_final, y_final)):\n",
        "    # Train set\n",
        "    X_train_fold = X_final.iloc[train_index]\n",
        "    y_train_fold = y_final.iloc[train_index]\n",
        "\n",
        "    # Test set\n",
        "    X_test_fold = X_final.iloc[test_index]\n",
        "    y_test_fold = y_final.iloc[test_index]\n",
        "\n",
        "    # Over-sample label churn pada data train\n",
        "    sm = SMOTENC(random_state=42, categorical_features=X_cat_mask) # Specify which features are categorical\n",
        "    X_train_fold, y_train_fold = sm.fit_resample(X_train_fold, y_train_fold)\n",
        "\n",
        "    # Under-sample label no churn (0) dengan mengurangi Tomek links\n",
        "    # Tomek links: pasangan observasi dari dua label yang berbeda di mana keduanya memiliki kemiripan nilai atau tetangga terdekat\n",
        "    tl = TomekLinks(sampling_strategy=[0])\n",
        "    X_train_fold, y_train_fold = tl.fit_resample(X_train_fold, y_train_fold)\n",
        "\n",
        "    for model in models:\n",
        "        # Fit the model dengan data train\n",
        "        model.fit(X_train_fold, y_train_fold)\n",
        "\n",
        "        # Prediksi data x test\n",
        "        y_pred = model.predict(X_test_fold)\n",
        "\n",
        "        # Mengukur performa model\n",
        "        recall = recall_score(y_test_fold, y_pred)\n",
        "        f1 = f1_score(y_test_fold, y_pred)\n",
        "        auc = roc_auc_score(y_test_fold, y_pred)\n",
        "        acc = accuracy_score(y_test_fold, y_pred)\n",
        "\n",
        "        # Menyimpan hasil\n",
        "        name = model.__class__.__name__\n",
        "        res[f'{name}_{i}'] = {'Model': name\n",
        "                              , 'Iter': i\n",
        "                              , 'Recall': recall\n",
        "                              , 'F1': f1\n",
        "                              , 'AUC': auc\n",
        "                              , 'Accuracy': acc\n",
        "                             }\n",
        ""
      ],
      "metadata": {
        "id": "VRfXnR6wiJST"
      },
      "execution_count": null,
      "outputs": []
    },
    {
      "cell_type": "code",
      "source": [
        "# Plot results mean\n",
        "res1 = pd.DataFrame.from_dict(res).T.reset_index(drop=True)\n",
        "(res1\n",
        " .groupby('Model')\n",
        " .mean()\n",
        " .drop(columns=['Iter'])\n",
        " .style\n",
        " .highlight_max(color=\"#ca5cdd\", subset=['Accuracy','Recall', 'F1', 'AUC']) # higher is better --> highlight_max\n",
        " .format(precision=2)\n",
        ")"
      ],
      "metadata": {
        "colab": {
          "base_uri": "https://localhost:8080/",
          "height": 175
        },
        "id": "VHFA43o3Pw7B",
        "outputId": "b7404a96-1bd0-46cf-b0e7-d4f963587606"
      },
      "execution_count": null,
      "outputs": [
        {
          "output_type": "execute_result",
          "data": {
            "text/plain": [
              "<pandas.io.formats.style.Styler at 0x7f5803ee8c50>"
            ],
            "text/html": [
              "<style type=\"text/css\">\n",
              "#T_5851e_row0_col0, #T_5851e_row0_col1, #T_5851e_row0_col2, #T_5851e_row0_col3 {\n",
              "  background-color: #ca5cdd;\n",
              "}\n",
              "</style>\n",
              "<table id=\"T_5851e_\" class=\"dataframe\">\n",
              "  <thead>\n",
              "    <tr>\n",
              "      <th class=\"blank level0\" >&nbsp;</th>\n",
              "      <th class=\"col_heading level0 col0\" >Recall</th>\n",
              "      <th class=\"col_heading level0 col1\" >F1</th>\n",
              "      <th class=\"col_heading level0 col2\" >AUC</th>\n",
              "      <th class=\"col_heading level0 col3\" >Accuracy</th>\n",
              "    </tr>\n",
              "    <tr>\n",
              "      <th class=\"index_name level0\" >Model</th>\n",
              "      <th class=\"blank col0\" >&nbsp;</th>\n",
              "      <th class=\"blank col1\" >&nbsp;</th>\n",
              "      <th class=\"blank col2\" >&nbsp;</th>\n",
              "      <th class=\"blank col3\" >&nbsp;</th>\n",
              "    </tr>\n",
              "  </thead>\n",
              "  <tbody>\n",
              "    <tr>\n",
              "      <th id=\"T_5851e_level0_row0\" class=\"row_heading level0 row0\" >DecisionTreeClassifier</th>\n",
              "      <td id=\"T_5851e_row0_col0\" class=\"data row0 col0\" >0.86</td>\n",
              "      <td id=\"T_5851e_row0_col1\" class=\"data row0 col1\" >0.75</td>\n",
              "      <td id=\"T_5851e_row0_col2\" class=\"data row0 col2\" >0.89</td>\n",
              "      <td id=\"T_5851e_row0_col3\" class=\"data row0 col3\" >0.92</td>\n",
              "    </tr>\n",
              "    <tr>\n",
              "      <th id=\"T_5851e_level0_row1\" class=\"row_heading level0 row1\" >KNeighborsClassifier</th>\n",
              "      <td id=\"T_5851e_row1_col0\" class=\"data row1 col0\" >0.82</td>\n",
              "      <td id=\"T_5851e_row1_col1\" class=\"data row1 col1\" >0.40</td>\n",
              "      <td id=\"T_5851e_row1_col2\" class=\"data row1 col2\" >0.72</td>\n",
              "      <td id=\"T_5851e_row1_col3\" class=\"data row1 col3\" >0.65</td>\n",
              "    </tr>\n",
              "    <tr>\n",
              "      <th id=\"T_5851e_level0_row2\" class=\"row_heading level0 row2\" >LogisticRegression</th>\n",
              "      <td id=\"T_5851e_row2_col0\" class=\"data row2 col0\" >0.30</td>\n",
              "      <td id=\"T_5851e_row2_col1\" class=\"data row2 col1\" >0.39</td>\n",
              "      <td id=\"T_5851e_row2_col2\" class=\"data row2 col2\" >0.63</td>\n",
              "      <td id=\"T_5851e_row2_col3\" class=\"data row2 col3\" >0.87</td>\n",
              "    </tr>\n",
              "  </tbody>\n",
              "</table>\n"
            ]
          },
          "metadata": {},
          "execution_count": 48
        }
      ]
    },
    {
      "cell_type": "code",
      "source": [
        "X_cat_mask = [True if X_final[i].dtype == 'uint8' else False for i in X_final.columns]\n",
        "X_train, X_test, y_train, y_test = train_test_split(X_final, y_final, test_size=0.2, stratify=y_final, random_state=123)\n",
        "\n",
        "sm = SMOTENC(random_state=42, categorical_features=X_cat_mask) # Specify which features are categorical\n",
        "X_train_sm, y_train_sm = sm.fit_resample(X_train, y_train)\n",
        "\n",
        "tl = TomekLinks(sampling_strategy=[0])\n",
        "X_train_smtl, y_train_smtl = tl.fit_resample(X_train_sm, y_train_sm)\n",
        "\n",
        "tree = DecisionTreeClassifier(random_state=123, max_depth=5)\n",
        "tree.fit(X_train_smtl, y_train_smtl)\n",
        "\n",
        "y_pred = tree.predict(X_test)\n",
        "recall = recall_score(y_test, y_pred)\n",
        "f1 = f1_score(y_test, y_pred)\n",
        "auc = roc_auc_score(y_test, y_pred)\n",
        "cm = confusion_matrix(y_test, y_pred)\n",
        "acc = accuracy_score(y_test, y_pred)"
      ],
      "metadata": {
        "id": "8f01wCXcRr4D"
      },
      "execution_count": null,
      "outputs": []
    },
    {
      "cell_type": "code",
      "source": [
        "print(\"Recall:\", round(recall,2))\n",
        "print(\"F1-score:\", round(f1,2))\n",
        "print(\"Auc:\",round(auc,2))\n",
        "print(\"Accuracy\",round(acc,2))"
      ],
      "metadata": {
        "colab": {
          "base_uri": "https://localhost:8080/"
        },
        "id": "zlb7JnD_Sw8n",
        "outputId": "f21a38db-b4df-4ab5-d0a2-83a9c72c0783"
      },
      "execution_count": null,
      "outputs": [
        {
          "output_type": "stream",
          "name": "stdout",
          "text": [
            "Recall: 0.84\n",
            "F1-score: 0.9\n",
            "Auc: 0.92\n",
            "Accuracy 0.97\n"
          ]
        }
      ]
    },
    {
      "cell_type": "code",
      "source": [
        "norm=plt.Normalize(0,700)\n",
        "cmap = colors.LinearSegmentedColormap.from_list(\"\", [\"white\",\"#be2ed6\",\"#b100cd\"])\n",
        "\n",
        "ax = sns.heatmap(cm, annot=True, cmap=cmap, fmt=\"g\", annot_kws={\"fontsize\":13, \"fontweight\":\"bold\"})\n",
        "\n",
        "ax.set_title('Confusion Matrix\\n', fontsize=13);\n",
        "ax.set_xlabel('Predicted Values', labelpad=20)\n",
        "ax.set_ylabel('Actual Values', labelpad=20);\n",
        "\n",
        "## Ticket labels - List must be in alphabetical order\n",
        "ax.xaxis.set_ticklabels(['No Churn','Churn'], fontweight=\"bold\")\n",
        "ax.yaxis.set_ticklabels(['No Churn','Churn'], fontweight=\"bold\")\n",
        "\n",
        "## Display the visualization of the Confusion Matrix.\n",
        "plt.show()"
      ],
      "metadata": {
        "colab": {
          "base_uri": "https://localhost:8080/",
          "height": 326
        },
        "id": "imiOL2iUS_ih",
        "outputId": "3ee8f92d-e4d4-4abb-d0c7-3c9bfd2ef821"
      },
      "execution_count": null,
      "outputs": [
        {
          "output_type": "display_data",
          "data": {
            "text/plain": [
              "<Figure size 432x288 with 2 Axes>"
            ],
            "image/png": "[encoded data removed]"
          },
          "metadata": {
            "needs_background": "light"
          }
        }
      ]
    },
    {
      "cell_type": "code",
      "source": [
        "feature_importances = pd.Series(tree.feature_importances_\n",
        "                               , name='imp'\n",
        "                               , index=X_train.columns).sort_values(ascending=False).head(10)\n",
        "\n",
        "fig, ax = plt.subplots(figsize=(12,6))\n",
        "sns.barplot(y=feature_importances.index, x=feature_importances.values, ax=ax, color=\"#b100cd\")\n",
        "ax.set_title(\"Top 10 Feature Importances\", pad=15, fontsize=15)\n",
        "for i, p in enumerate(ax.patches):\n",
        "    width = p.get_width()\n",
        "    ax.text(width+0.02, i+0.1, round(width,3),fontsize=12, ha=\"center\")\n",
        "ax.yaxis.set_ticklabels(feature_importances.index, fontsize=12)\n",
        "ax.spines['top'].set_visible(False)\n",
        "ax.spines['right'].set_visible(False)\n",
        "ax.spines['bottom'].set_visible(False)\n",
        "ax.spines['left'].set_visible(False)\n",
        "ax.get_xaxis().set_visible(False)\n",
        "plt.show()"
      ],
      "metadata": {
        "colab": {
          "base_uri": "https://localhost:8080/",
          "height": 384
        },
        "id": "-PQChZB5dJFb",
        "outputId": "508d2c35-a5ec-468f-eafe-0e144b92883f"
      },
      "execution_count": null,
      "outputs": [
        {
          "output_type": "display_data",
          "data": {
            "text/plain": [
              "<Figure size 864x432 with 1 Axes>"
            ],
            "image/png": "[encoded data removed]"
          },
          "metadata": {
            "needs_background": "light"
          }
        }
      ]
    },
    {
      "cell_type": "markdown",
      "source": [
        "Dari variabel yang digunakan dalam pembuatan model machine learning, variabel total_all_charge sangat menentukan apakah seseorang termasuk churn atau tidak. Selanjutnya diikuti dengan variabel number_customer_service_calls dan international_plan."
      ],
      "metadata": {
        "id": "a0Wt-ClTCOi8"
      }
    },
    {
      "cell_type": "markdown",
      "source": [
        "## Step 5: Membuat Prediksi 📈\n",
        "\n",
        "Selanjutnya kita akan memprediksi pelanggan yang churn dari data test menggunakan machine learning yang telah dibuat pada tahapan sebelumnya. Perlu dilakukan pemrosesan pada data test terlebih dahulu sebelum diprediksi dengan alur sebagai berikut."
      ],
      "metadata": {
        "id": "QYxRLs5DiDbC"
      }
    },
    {
      "cell_type": "code",
      "source": [
        "#cek kembali data test\n",
        "df_test.head()"
      ],
      "metadata": {
        "id": "C7R6lb21iBzk",
        "colab": {
          "base_uri": "https://localhost:8080/",
          "height": 270
        },
        "outputId": "aa73ba18-ac95-4a74-e340-656dd6d67d18"
      },
      "execution_count": null,
      "outputs": [
        {
          "output_type": "execute_result",
          "data": {
            "text/plain": [
              "   id state  account_length      area_code international_plan voice_mail_plan  \\\n",
              "0   1    KS             128  area_code_415                 no             yes   \n",
              "1   2    AL             118  area_code_510                yes              no   \n",
              "2   3    IA              62  area_code_415                 no              no   \n",
              "3   4    VT              93  area_code_510                 no              no   \n",
              "4   5    NE             174  area_code_415                 no              no   \n",
              "\n",
              "   number_vmail_messages  total_day_minutes  total_day_calls  \\\n",
              "0                     25              265.1              110   \n",
              "1                      0              223.4               98   \n",
              "2                      0              120.7               70   \n",
              "3                      0              190.7              114   \n",
              "4                      0              124.3               76   \n",
              "\n",
              "   total_day_charge  total_eve_minutes  total_eve_calls  total_eve_charge  \\\n",
              "0             45.07              197.4               99             16.78   \n",
              "1             37.98              220.6              101             18.75   \n",
              "2             20.52              307.2               76             26.11   \n",
              "3             32.42              218.2              111             18.55   \n",
              "4             21.13              277.1              112             23.55   \n",
              "\n",
              "   total_night_minutes  total_night_calls  total_night_charge  \\\n",
              "0                244.7                 91               11.01   \n",
              "1                203.9                118                9.18   \n",
              "2                203.0                 99                9.14   \n",
              "3                129.6                121                5.83   \n",
              "4                250.7                115               11.28   \n",
              "\n",
              "   total_intl_minutes  total_intl_calls  total_intl_charge  \\\n",
              "0                10.0                 3               2.70   \n",
              "1                 6.3                 6               1.70   \n",
              "2                13.1                 6               3.54   \n",
              "3                 8.1                 3               2.19   \n",
              "4                15.5                 5               4.19   \n",
              "\n",
              "   number_customer_service_calls  \n",
              "0                              1  \n",
              "1                              0  \n",
              "2                              4  \n",
              "3                              3  \n",
              "4                              3  "
            ],
            "text/html": [
              "\n",
              "  <div id=\"df-8a07b875-cb55-4675-a026-26b7c652039d\">\n",
              "    <div class=\"colab-df-container\">\n",
              "      <div>\n",
              "<style scoped>\n",
              "    .dataframe tbody tr th:only-of-type {\n",
              "        vertical-align: middle;\n",
              "    }\n",
              "\n",
              "    .dataframe tbody tr th {\n",
              "        vertical-align: top;\n",
              "    }\n",
              "\n",
              "    .dataframe thead th {\n",
              "        text-align: right;\n",
              "    }\n",
              "</style>\n",
              "<table border=\"1\" class=\"dataframe\">\n",
              "  <thead>\n",
              "    <tr style=\"text-align: right;\">\n",
              "      <th></th>\n",
              "      <th>id</th>\n",
              "      <th>state</th>\n",
              "      <th>account_length</th>\n",
              "      <th>area_code</th>\n",
              "      <th>international_plan</th>\n",
              "      <th>voice_mail_plan</th>\n",
              "      <th>number_vmail_messages</th>\n",
              "      <th>total_day_minutes</th>\n",
              "      <th>total_day_calls</th>\n",
              "      <th>total_day_charge</th>\n",
              "      <th>total_eve_minutes</th>\n",
              "      <th>total_eve_calls</th>\n",
              "      <th>total_eve_charge</th>\n",
              "      <th>total_night_minutes</th>\n",
              "      <th>total_night_calls</th>\n",
              "      <th>total_night_charge</th>\n",
              "      <th>total_intl_minutes</th>\n",
              "      <th>total_intl_calls</th>\n",
              "      <th>total_intl_charge</th>\n",
              "      <th>number_customer_service_calls</th>\n",
              "    </tr>\n",
              "  </thead>\n",
              "  <tbody>\n",
              "    <tr>\n",
              "      <th>0</th>\n",
              "      <td>1</td>\n",
              "      <td>KS</td>\n",
              "      <td>128</td>\n",
              "      <td>area_code_415</td>\n",
              "      <td>no</td>\n",
              "      <td>yes</td>\n",
              "      <td>25</td>\n",
              "      <td>265.1</td>\n",
              "      <td>110</td>\n",
              "      <td>45.07</td>\n",
              "      <td>197.4</td>\n",
              "      <td>99</td>\n",
              "      <td>16.78</td>\n",
              "      <td>244.7</td>\n",
              "      <td>91</td>\n",
              "      <td>11.01</td>\n",
              "      <td>10.0</td>\n",
              "      <td>3</td>\n",
              "      <td>2.70</td>\n",
              "      <td>1</td>\n",
              "    </tr>\n",
              "    <tr>\n",
              "      <th>1</th>\n",
              "      <td>2</td>\n",
              "      <td>AL</td>\n",
              "      <td>118</td>\n",
              "      <td>area_code_510</td>\n",
              "      <td>yes</td>\n",
              "      <td>no</td>\n",
              "      <td>0</td>\n",
              "      <td>223.4</td>\n",
              "      <td>98</td>\n",
              "      <td>37.98</td>\n",
              "      <td>220.6</td>\n",
              "      <td>101</td>\n",
              "      <td>18.75</td>\n",
              "      <td>203.9</td>\n",
              "      <td>118</td>\n",
              "      <td>9.18</td>\n",
              "      <td>6.3</td>\n",
              "      <td>6</td>\n",
              "      <td>1.70</td>\n",
              "      <td>0</td>\n",
              "    </tr>\n",
              "    <tr>\n",
              "      <th>2</th>\n",
              "      <td>3</td>\n",
              "      <td>IA</td>\n",
              "      <td>62</td>\n",
              "      <td>area_code_415</td>\n",
              "      <td>no</td>\n",
              "      <td>no</td>\n",
              "      <td>0</td>\n",
              "      <td>120.7</td>\n",
              "      <td>70</td>\n",
              "      <td>20.52</td>\n",
              "      <td>307.2</td>\n",
              "      <td>76</td>\n",
              "      <td>26.11</td>\n",
              "      <td>203.0</td>\n",
              "      <td>99</td>\n",
              "      <td>9.14</td>\n",
              "      <td>13.1</td>\n",
              "      <td>6</td>\n",
              "      <td>3.54</td>\n",
              "      <td>4</td>\n",
              "    </tr>\n",
              "    <tr>\n",
              "      <th>3</th>\n",
              "      <td>4</td>\n",
              "      <td>VT</td>\n",
              "      <td>93</td>\n",
              "      <td>area_code_510</td>\n",
              "      <td>no</td>\n",
              "      <td>no</td>\n",
              "      <td>0</td>\n",
              "      <td>190.7</td>\n",
              "      <td>114</td>\n",
              "      <td>32.42</td>\n",
              "      <td>218.2</td>\n",
              "      <td>111</td>\n",
              "      <td>18.55</td>\n",
              "      <td>129.6</td>\n",
              "      <td>121</td>\n",
              "      <td>5.83</td>\n",
              "      <td>8.1</td>\n",
              "      <td>3</td>\n",
              "      <td>2.19</td>\n",
              "      <td>3</td>\n",
              "    </tr>\n",
              "    <tr>\n",
              "      <th>4</th>\n",
              "      <td>5</td>\n",
              "      <td>NE</td>\n",
              "      <td>174</td>\n",
              "      <td>area_code_415</td>\n",
              "      <td>no</td>\n",
              "      <td>no</td>\n",
              "      <td>0</td>\n",
              "      <td>124.3</td>\n",
              "      <td>76</td>\n",
              "      <td>21.13</td>\n",
              "      <td>277.1</td>\n",
              "      <td>112</td>\n",
              "      <td>23.55</td>\n",
              "      <td>250.7</td>\n",
              "      <td>115</td>\n",
              "      <td>11.28</td>\n",
              "      <td>15.5</td>\n",
              "      <td>5</td>\n",
              "      <td>4.19</td>\n",
              "      <td>3</td>\n",
              "    </tr>\n",
              "  </tbody>\n",
              "</table>\n",
              "</div>\n",
              "      <button class=\"colab-df-convert\" onclick=\"convertToInteractive('df-8a07b875-cb55-4675-a026-26b7c652039d')\"\n",
              "              title=\"Convert this dataframe to an interactive table.\"\n",
              "              style=\"display:none;\">\n",
              "        \n",
              "  <svg xmlns=\"http://www.w3.org/2000/svg\" height=\"24px\"viewBox=\"0 0 24 24\"\n",
              "       width=\"24px\">\n",
              "    <path d=\"M0 0h24v24H0V0z\" fill=\"none\"/>\n",
              "    <path d=\"M18.56 5.44l.94 2.06.94-2.06 2.06-.94-2.06-.94-.94-2.06-.94 2.06-2.06.94zm-11 1L8.5 8.5l.94-2.06 2.06-.94-2.06-.94L8.5 2.5l-.94 2.06-2.06.94zm10 10l.94 2.06.94-2.06 2.06-.94-2.06-.94-.94-2.06-.94 2.06-2.06.94z\"/><path d=\"M17.41 7.96l-1.37-1.37c-.4-.4-.92-.59-1.43-.59-.52 0-1.04.2-1.43.59L10.3 9.45l-7.72 7.72c-.78.78-.78 2.05 0 2.83L4 21.41c.39.39.9.59 1.41.59.51 0 1.02-.2 1.41-.59l7.78-7.78 2.81-2.81c.8-.78.8-2.07 0-2.86zM5.41 20L4 18.59l7.72-7.72 1.47 1.35L5.41 20z\"/>\n",
              "  </svg>\n",
              "      </button>\n",
              "      \n",
              "  <style>\n",
              "    .colab-df-container {\n",
              "      display:flex;\n",
              "      flex-wrap:wrap;\n",
              "      gap: 12px;\n",
              "    }\n",
              "\n",
              "    .colab-df-convert {\n",
              "      background-color: #E8F0FE;\n",
              "      border: none;\n",
              "      border-radius: 50%;\n",
              "      cursor: pointer;\n",
              "      display: none;\n",
              "      fill: #1967D2;\n",
              "      height: 32px;\n",
              "      padding: 0 0 0 0;\n",
              "      width: 32px;\n",
              "    }\n",
              "\n",
              "    .colab-df-convert:hover {\n",
              "      background-color: #E2EBFA;\n",
              "      box-shadow: 0px 1px 2px rgba(60, 64, 67, 0.3), 0px 1px 3px 1px rgba(60, 64, 67, 0.15);\n",
              "      fill: #174EA6;\n",
              "    }\n",
              "\n",
              "    [theme=dark] .colab-df-convert {\n",
              "      background-color: #3B4455;\n",
              "      fill: #D2E3FC;\n",
              "    }\n",
              "\n",
              "    [theme=dark] .colab-df-convert:hover {\n",
              "      background-color: #434B5C;\n",
              "      box-shadow: 0px 1px 3px 1px rgba(0, 0, 0, 0.15);\n",
              "      filter: drop-shadow(0px 1px 2px rgba(0, 0, 0, 0.3));\n",
              "      fill: #FFFFFF;\n",
              "    }\n",
              "  </style>\n",
              "\n",
              "      <script>\n",
              "        const buttonEl =\n",
              "          document.querySelector('#df-8a07b875-cb55-4675-a026-26b7c652039d button.colab-df-convert');\n",
              "        buttonEl.style.display =\n",
              "          google.colab.kernel.accessAllowed ? 'block' : 'none';\n",
              "\n",
              "        async function convertToInteractive(key) {\n",
              "          const element = document.querySelector('#df-8a07b875-cb55-4675-a026-26b7c652039d');\n",
              "          const dataTable =\n",
              "            await google.colab.kernel.invokeFunction('convertToInteractive',\n",
              "                                                     [key], {});\n",
              "          if (!dataTable) return;\n",
              "\n",
              "          const docLinkHtml = 'Like what you see? Visit the ' +\n",
              "            '<a target=\"_blank\" href=https://colab.research.google.com/notebooks/data_table.ipynb>data table notebook</a>'\n",
              "            + ' to learn more about interactive tables.';\n",
              "          element.innerHTML = '';\n",
              "          dataTable['output_type'] = 'display_data';\n",
              "          await google.colab.output.renderOutput(dataTable, element);\n",
              "          const docLink = document.createElement('div');\n",
              "          docLink.innerHTML = docLinkHtml;\n",
              "          element.appendChild(docLink);\n",
              "        }\n",
              "      </script>\n",
              "    </div>\n",
              "  </div>\n",
              "  "
            ]
          },
          "metadata": {},
          "execution_count": 53
        }
      ]
    },
    {
      "cell_type": "code",
      "source": [
        "df_test.shape"
      ],
      "metadata": {
        "colab": {
          "base_uri": "https://localhost:8080/"
        },
        "id": "7LTl9Skrrib6",
        "outputId": "68f41e18-a0f4-4b89-d6f3-652da7327745"
      },
      "execution_count": null,
      "outputs": [
        {
          "output_type": "execute_result",
          "data": {
            "text/plain": [
              "(750, 20)"
            ]
          },
          "metadata": {},
          "execution_count": 54
        }
      ]
    },
    {
      "cell_type": "code",
      "source": [
        "#pisahkan id dengan variabel lainnya\n",
        "id = df_test.copy()[\"id\"]\n",
        "test = df_test.copy().drop(\"id\", axis=1)\n",
        "\n",
        "#feature encoding\n",
        "test['total_all_calls'] = test['total_day_calls'] + test['total_eve_calls'] + test['total_night_calls'] + test['total_intl_calls']\n",
        "test['total_all_charge'] = test['total_day_charge'] + test['total_eve_charge'] + test['total_night_charge'] + test['total_intl_charge']\n",
        "\n",
        "#drop columns\n",
        "test_drop = drop_cols(test)\n",
        "\n",
        "#categorical encoding\n",
        "test_encode = cat_encode(test_drop)\n",
        "\n",
        "#scaling data numerikal\n",
        "test_final = scaler(test_encode)"
      ],
      "metadata": {
        "id": "SBu5xYe3kNUo"
      },
      "execution_count": null,
      "outputs": []
    },
    {
      "cell_type": "code",
      "source": [
        "#pastikan urutan kolomnya sama\n",
        "test_final = test_final[X_final.columns]"
      ],
      "metadata": {
        "id": "dfqFoZxEpWX_"
      },
      "execution_count": null,
      "outputs": []
    },
    {
      "cell_type": "code",
      "source": [
        "#prediksi\n",
        "prediction = tree.predict(test_final)\n",
        "\n",
        "df_prediction = pd.DataFrame({\"id\":id.to_list(),\"churn\":prediction}).set_index(\"id\")\n",
        "df_prediction.head()"
      ],
      "metadata": {
        "colab": {
          "base_uri": "https://localhost:8080/",
          "height": 238
        },
        "id": "9a5fm_-QqTwC",
        "outputId": "753e5d5b-8333-4868-ab3f-fe96cd4157b0"
      },
      "execution_count": null,
      "outputs": [
        {
          "output_type": "execute_result",
          "data": {
            "text/plain": [
              "    churn\n",
              "id       \n",
              "1       0\n",
              "2       0\n",
              "3       0\n",
              "4       0\n",
              "5       0"
            ],
            "text/html": [
              "\n",
              "  <div id=\"df-a2285ac1-6382-4725-be58-ed1348c78697\">\n",
              "    <div class=\"colab-df-container\">\n",
              "      <div>\n",
              "<style scoped>\n",
              "    .dataframe tbody tr th:only-of-type {\n",
              "        vertical-align: middle;\n",
              "    }\n",
              "\n",
              "    .dataframe tbody tr th {\n",
              "        vertical-align: top;\n",
              "    }\n",
              "\n",
              "    .dataframe thead th {\n",
              "        text-align: right;\n",
              "    }\n",
              "</style>\n",
              "<table border=\"1\" class=\"dataframe\">\n",
              "  <thead>\n",
              "    <tr style=\"text-align: right;\">\n",
              "      <th></th>\n",
              "      <th>churn</th>\n",
              "    </tr>\n",
              "    <tr>\n",
              "      <th>id</th>\n",
              "      <th></th>\n",
              "    </tr>\n",
              "  </thead>\n",
              "  <tbody>\n",
              "    <tr>\n",
              "      <th>1</th>\n",
              "      <td>0</td>\n",
              "    </tr>\n",
              "    <tr>\n",
              "      <th>2</th>\n",
              "      <td>0</td>\n",
              "    </tr>\n",
              "    <tr>\n",
              "      <th>3</th>\n",
              "      <td>0</td>\n",
              "    </tr>\n",
              "    <tr>\n",
              "      <th>4</th>\n",
              "      <td>0</td>\n",
              "    </tr>\n",
              "    <tr>\n",
              "      <th>5</th>\n",
              "      <td>0</td>\n",
              "    </tr>\n",
              "  </tbody>\n",
              "</table>\n",
              "</div>\n",
              "      <button class=\"colab-df-convert\" onclick=\"convertToInteractive('df-a2285ac1-6382-4725-be58-ed1348c78697')\"\n",
              "              title=\"Convert this dataframe to an interactive table.\"\n",
              "              style=\"display:none;\">\n",
              "        \n",
              "  <svg xmlns=\"http://www.w3.org/2000/svg\" height=\"24px\"viewBox=\"0 0 24 24\"\n",
              "       width=\"24px\">\n",
              "    <path d=\"M0 0h24v24H0V0z\" fill=\"none\"/>\n",
              "    <path d=\"M18.56 5.44l.94 2.06.94-2.06 2.06-.94-2.06-.94-.94-2.06-.94 2.06-2.06.94zm-11 1L8.5 8.5l.94-2.06 2.06-.94-2.06-.94L8.5 2.5l-.94 2.06-2.06.94zm10 10l.94 2.06.94-2.06 2.06-.94-2.06-.94-.94-2.06-.94 2.06-2.06.94z\"/><path d=\"M17.41 7.96l-1.37-1.37c-.4-.4-.92-.59-1.43-.59-.52 0-1.04.2-1.43.59L10.3 9.45l-7.72 7.72c-.78.78-.78 2.05 0 2.83L4 21.41c.39.39.9.59 1.41.59.51 0 1.02-.2 1.41-.59l7.78-7.78 2.81-2.81c.8-.78.8-2.07 0-2.86zM5.41 20L4 18.59l7.72-7.72 1.47 1.35L5.41 20z\"/>\n",
              "  </svg>\n",
              "      </button>\n",
              "      \n",
              "  <style>\n",
              "    .colab-df-container {\n",
              "      display:flex;\n",
              "      flex-wrap:wrap;\n",
              "      gap: 12px;\n",
              "    }\n",
              "\n",
              "    .colab-df-convert {\n",
              "      background-color: #E8F0FE;\n",
              "      border: none;\n",
              "      border-radius: 50%;\n",
              "      cursor: pointer;\n",
              "      display: none;\n",
              "      fill: #1967D2;\n",
              "      height: 32px;\n",
              "      padding: 0 0 0 0;\n",
              "      width: 32px;\n",
              "    }\n",
              "\n",
              "    .colab-df-convert:hover {\n",
              "      background-color: #E2EBFA;\n",
              "      box-shadow: 0px 1px 2px rgba(60, 64, 67, 0.3), 0px 1px 3px 1px rgba(60, 64, 67, 0.15);\n",
              "      fill: #174EA6;\n",
              "    }\n",
              "\n",
              "    [theme=dark] .colab-df-convert {\n",
              "      background-color: #3B4455;\n",
              "      fill: #D2E3FC;\n",
              "    }\n",
              "\n",
              "    [theme=dark] .colab-df-convert:hover {\n",
              "      background-color: #434B5C;\n",
              "      box-shadow: 0px 1px 3px 1px rgba(0, 0, 0, 0.15);\n",
              "      filter: drop-shadow(0px 1px 2px rgba(0, 0, 0, 0.3));\n",
              "      fill: #FFFFFF;\n",
              "    }\n",
              "  </style>\n",
              "\n",
              "      <script>\n",
              "        const buttonEl =\n",
              "          document.querySelector('#df-a2285ac1-6382-4725-be58-ed1348c78697 button.colab-df-convert');\n",
              "        buttonEl.style.display =\n",
              "          google.colab.kernel.accessAllowed ? 'block' : 'none';\n",
              "\n",
              "        async function convertToInteractive(key) {\n",
              "          const element = document.querySelector('#df-a2285ac1-6382-4725-be58-ed1348c78697');\n",
              "          const dataTable =\n",
              "            await google.colab.kernel.invokeFunction('convertToInteractive',\n",
              "                                                     [key], {});\n",
              "          if (!dataTable) return;\n",
              "\n",
              "          const docLinkHtml = 'Like what you see? Visit the ' +\n",
              "            '<a target=\"_blank\" href=https://colab.research.google.com/notebooks/data_table.ipynb>data table notebook</a>'\n",
              "            + ' to learn more about interactive tables.';\n",
              "          element.innerHTML = '';\n",
              "          dataTable['output_type'] = 'display_data';\n",
              "          await google.colab.output.renderOutput(dataTable, element);\n",
              "          const docLink = document.createElement('div');\n",
              "          docLink.innerHTML = docLinkHtml;\n",
              "          element.appendChild(docLink);\n",
              "        }\n",
              "      </script>\n",
              "    </div>\n",
              "  </div>\n",
              "  "
            ]
          },
          "metadata": {},
          "execution_count": 57
        }
      ]
    },
    {
      "cell_type": "code",
      "source": [
        "df_prediction.value_counts()"
      ],
      "metadata": {
        "colab": {
          "base_uri": "https://localhost:8080/"
        },
        "id": "yuDy1_Kmrv9q",
        "outputId": "09ab9933-2a1a-4730-859a-78e83d996d0d"
      },
      "execution_count": null,
      "outputs": [
        {
          "output_type": "execute_result",
          "data": {
            "text/plain": [
              "churn\n",
              "0        650\n",
              "1        100\n",
              "dtype: int64"
            ]
          },
          "metadata": {},
          "execution_count": 58
        }
      ]
    },
    {
      "cell_type": "code",
      "source": [
        "#simpan hasil prediksi\n",
        "df_prediction.to_csv(\"prediksi_churn.csv\", index=False)"
      ],
      "metadata": {
        "id": "29Apvg_kq3zW"
      },
      "execution_count": null,
      "outputs": []
    },
    {
      "cell_type": "markdown",
      "source": [
        "## Referensi:\n",
        "1. Verma, Y., 2022. Why Data Scaling is important in Machine Learning & How to effectively do it. [online] Analytics India Magazine. Available at: <https://analyticsindiamag.com/why-data-scaling-is-important-in-machine-learning-how-to-effectively-do-it/>\n",
        "\n",
        "  [Accessed 17 October 2022].\n",
        "2. Gifari, J., Amanda, T., Maulana, A., Fakhruddin, S., Diwanti, D. and Rachman, A., 2021. Data Science & Machine Learning. Depok: Inspira.\n",
        "2. scikit-learn.org\n",
        "3. seaborn.pydata.org\n",
        "4. matplotlib.org\n",
        "5. pandas.pydata.org\n",
        "6. analyseup.com"
      ],
      "metadata": {
        "id": "riHjvdeq8Bdz"
      }
    }
  ]
}
